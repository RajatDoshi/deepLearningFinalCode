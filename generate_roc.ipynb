{
 "cells": [
  {
   "cell_type": "code",
   "execution_count": null,
   "metadata": {},
   "outputs": [],
   "source": [
    "import matplotlib.pyplot as plt\n",
    "from sklearn import svm, datasets\n",
    "from sklearn.model_selection import train_test_split\n",
    "from sklearn.preprocessing import label_binarize\n",
    "from sklearn.metrics import roc_curve, auc\n",
    "from sklearn.multiclass import OneVsRestClassifier\n",
    "from itertools import cycle\n",
    "\n",
    "\n",
    "y = label_binarize(y, classes=[0, 1, 2, 3])\n",
    "\n",
    "out = model.(data_values,batch_size=174)\n",
    "y = np.concatenate([y for x, y in train_dataset], axis=0)\n",
    "data_values = np.concatenate([x for x, y in train_dataset], axis=0)\n",
    "\n",
    "false_p = dict()\n",
    "true_p = dict()\n",
    "\n",
    "roc_auc = dict()\n",
    "plt.rcParams[\"figure.figsize\"] = (10,10)\n",
    "classes = ['Car', 'Truck', 'Person', 'Bicycle']\n",
    "for i in range(4):\n",
    "    false_p[i], true_p[i], _ = roc_curve(y[:, i], out[:, i])\n",
    "    roc_auc[i] = auc(false_p[i], true_p[i])\n",
    "colors = cycle(['blue', 'red', 'green', 'black'])\n",
    "for i, color in zip(range(4), colors):\n",
    "    plt.plot(false_p[i], true_p[i], color=color, lw=1.5,\n",
    "             label='ROC curve of {0} (AUC = {1:0.2f})'\n",
    "             ''.format(classes[i], roc_auc[i]))\n",
    "plt.plot([0, 1], [0, 1], 'k--', lw=1.5)\n",
    "plt.xlim([-0.05, 1.0])\n",
    "plt.ylim([0.0, 1.05])\n",
    "plt.xlabel('False Positive Rate')\n",
    "plt.ylabel('True Positive Rate')\n",
    "plt.title('ROC for different classes')\n",
    "plt.legend(loc=\"lower right\")\n",
    "plt.show()"
   ]
  }
 ],
 "metadata": {
  "kernelspec": {
   "display_name": "Python 3",
   "language": "python",
   "name": "python3"
  },
  "language_info": {
   "codemirror_mode": {
    "name": "ipython",
    "version": 3
   },
   "file_extension": ".py",
   "mimetype": "text/x-python",
   "name": "python",
   "nbconvert_exporter": "python",
   "pygments_lexer": "ipython3",
   "version": "3.8.5"
  }
 },
 "nbformat": 4,
 "nbformat_minor": 4
}
