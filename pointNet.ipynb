{
  "nbformat": 4,
  "nbformat_minor": 0,
  "metadata": {
    "colab": {
      "name": "rajatWorking.ipynb",
      "provenance": [],
      "collapsed_sections": []
    },
    "kernelspec": {
      "name": "python3",
      "display_name": "Python 3"
    },
    "language_info": {
      "name": "python"
    },
    "accelerator": "GPU"
  },
  "cells": [
    {
      "cell_type": "code",
      "metadata": {
        "id": "zWFzn6SclBYW"
      },
      "source": [
        "#Import Libraries \n",
        "import os\n",
        "import glob\n",
        "import numpy as np\n",
        "import pandas as pd\n",
        "import tensorflow as tf\n",
        "from tensorflow import keras\n",
        "from tensorflow.keras import layers\n",
        "from matplotlib import pyplot as plt\n",
        "from glob import glob\n",
        "from numpy import genfromtxt\n",
        "import seaborn as sns\n",
        "import matplotlib.pyplot as plt\n",
        "\n",
        "tf.random.set_seed(1234)"
      ],
      "execution_count": 2,
      "outputs": []
    },
    {
      "cell_type": "code",
      "metadata": {
        "id": "DUSADdeiYr6t"
      },
      "source": [
        "#Constants\n",
        "NUM_POINTS = 5000\n",
        "NUM_CLASSES = 4\n",
        "BATCH_SIZE = 64\n",
        "NUM_EPOCHS = 15"
      ],
      "execution_count": 3,
      "outputs": []
    },
    {
      "cell_type": "code",
      "metadata": {
        "colab": {
          "base_uri": "https://localhost:8080/"
        },
        "id": "8gKOTZCCKTN2",
        "outputId": "891faf2a-2bbe-437c-d8e1-3cc2234c57ea"
      },
      "source": [
        "#Import Google Drive\n",
        "from google.colab import drive\n",
        "drive.mount('/content/gdrive')"
      ],
      "execution_count": 4,
      "outputs": [
        {
          "output_type": "stream",
          "text": [
            "Mounted at /content/gdrive\n"
          ],
          "name": "stdout"
        }
      ]
    },
    {
      "cell_type": "code",
      "metadata": {
        "id": "X_QqLZCLKRJO"
      },
      "source": [
        "# reads and returns the data from google drive  \n",
        "def readData(filename, dtype=float):\n",
        "    def openFile():\n",
        "        with open(filename, 'r') as f:\n",
        "            for line in f:\n",
        "                line = line.rstrip().split(',')\n",
        "                for elm in line:\n",
        "                    yield dtype(elm)\n",
        "        readData.length = len(line)\n",
        "\n",
        "    d = np.fromiter(openFile(), dtype=dtype)\n",
        "    d = d.reshape((-1, readData.length))\n",
        "    return d"
      ],
      "execution_count": 7,
      "outputs": []
    },
    {
      "cell_type": "code",
      "metadata": {
        "id": "dbBvmNxhKX7R"
      },
      "source": [
        "# read contents into dataUpSampled, train_labels variables\n",
        "dataUpSampled = readData('/content/gdrive/My Drive/best2ndData5k4Classes.csv').reshape((-1,NUM_POINTS, 3))\n",
        "\n",
        "train_labels = readData('/content/gdrive/My Drive/best2ndLabels5k4Classes.csv') "
      ],
      "execution_count": 8,
      "outputs": []
    },
    {
      "cell_type": "code",
      "metadata": {
        "colab": {
          "base_uri": "https://localhost:8080/",
          "height": 307
        },
        "id": "_a55QcTG_Ez9",
        "outputId": "61255a22-fc6d-4f9e-943a-0265458e82de"
      },
      "source": [
        "#histogram containing class counts\n",
        "plt.hist(train_labels)\n",
        "plt.title(\"Balanced Dataset\")\n",
        "plt.xlabel(\"Classes\")\n",
        "plt.ylabel(\"Frequency in dataset\")\n",
        "plt.xticks([0, 1, 2, 3], ['Car', 'Truck', 'Person', 'Bicycle'], rotation=20)\n",
        "plt.show()"
      ],
      "execution_count": 32,
      "outputs": [
        {
          "output_type": "display_data",
          "data": {
            "image/png": "[encoded data removed]",
            "text/plain": [
              "<Figure size 432x288 with 1 Axes>"
            ]
          },
          "metadata": {
            "tags": [],
            "needs_background": "light"
          }
        }
      ]
    },
    {
      "cell_type": "code",
      "metadata": {
        "id": "BZbIOMX2wWiW"
      },
      "source": [
        "# randomly split the data into testing and training\n",
        "from sklearn.model_selection import train_test_split\n",
        "import random \n",
        "\n",
        "temp = list(zip(dataUpSampled, train_labels))\n",
        "random.shuffle(temp)\n",
        "x_shuffled, y_shuffled = zip(*temp)\n",
        "\n",
        "training_data, testing_data, training_label, testing_label = train_test_split(x_shuffled, y_shuffled, test_size=0.45, shuffle=False)"
      ],
      "execution_count": 9,
      "outputs": []
    },
    {
      "cell_type": "code",
      "metadata": {
        "id": "oKqoP6OIKmZz"
      },
      "source": [
        "#shuffle the data\n",
        "lower, upper =  -0.0075, 0.0075\n",
        "def shuffleData(points, label):\n",
        "    points += tf.random.uniform(points.shape, lower, upper, dtype=tf.float64)\n",
        "    points = tf.random.shuffle(points)\n",
        "    return points, label\n",
        "    \n",
        "td = tf.data.Dataset.from_tensor_slices((np.array(training_data), training_label))\n",
        "train_dataset = td.shuffle(211).map(shuffleData).batch(BATCH_SIZE)\n",
        "\n",
        "td = tf.data.Dataset.from_tensor_slices((np.array(testing_data), testing_label))\n",
        "test_dataset = td.shuffle(174).map(shuffleData).batch(BATCH_SIZE)"
      ],
      "execution_count": 11,
      "outputs": []
    },
    {
      "cell_type": "code",
      "metadata": {
        "id": "0jDgS1m5lHLC"
      },
      "source": [
        "# Define regularizer class \n",
        "class orthoReg(keras.regularizers.Regularizer):\n",
        "    def __init__(self, n):\n",
        "      self.n = n\n",
        "\n",
        "    def __call__(self, x):\n",
        "      x = tf.reshape(x, (-1, self.n, self.n))\n",
        "      xsquaredt = tf.reshape(tf.tensordot(x, x, axes=(2, 2)), (-1, self.n, self.n))\n",
        "      squaredDifference = tf.square(xsquaredt - tf.eye(self.n))\n",
        "      return tf.reduce_sum(0.001 * squaredDifference)\n",
        "\n",
        "#define tnet layer for model\n",
        "def tNetLayer(inputs, n):\n",
        "    activationFunction = \"relu\"\n",
        "    padding, epsilon, momentum, kernel_size = \"valid\", 0.001, 0, 1\n",
        "    x = layers.Conv1D(32, kernel_size=kernel_size, padding=padding)(inputs)\n",
        "    x = layers.BatchNormalization(momentum=momentum, epsilon=epsilon)(x)\n",
        "    x = layers.Activation(activationFunction)(x)\n",
        "    x = layers.Conv1D(64, kernel_size=kernel_size, padding=padding)(x)\n",
        "    x = layers.BatchNormalization(momentum=momentum, epsilon=epsilon)(x)\n",
        "    x = layers.Activation(activationFunction)(x)\n",
        "    x = layers.Conv1D(512, kernel_size=kernel_size, padding=padding)(x)\n",
        "    x = layers.BatchNormalization(momentum=momentum, epsilon=epsilon)(x)\n",
        "    x = layers.Activation(activationFunction)(x)\n",
        "    x = layers.GlobalMaxPooling1D()(x)\n",
        "    x = layers.Dense(256)(x)\n",
        "    x = layers.BatchNormalization(momentum=momentum, epsilon=epsilon)(x)\n",
        "    x = layers.Activation(activationFunction)(x)\n",
        "    x = layers.Dense(128)(x)\n",
        "    x = layers.BatchNormalization(momentum=momentum, epsilon=epsilon)(x)\n",
        "    x = layers.Activation(activationFunction)(x)\n",
        "    x = layers.Dense(n * n, kernel_initializer=\"zeros\",\n",
        "        bias_initializer=keras.initializers.Constant(np.eye(n).flatten()), \n",
        "        activity_regularizer=orthoReg(n))(x)\n",
        "    x = layers.Reshape((n, n))(x)\n",
        "    return layers.Dot(axes=(2, 1))([inputs, x])\n",
        "\n",
        "#define full model architecture \n",
        "def initalizeModel(dropOutVal, denseActivationFunc=\"softmax\"):\n",
        "  activationFunction = \"relu\"\n",
        "  padding, epsilon, momentum, kernel_size = \"valid\", 0.001, 0, 1\n",
        "  feed = keras.Input(shape=(NUM_POINTS, 3))\n",
        "  x = tNetLayer(feed, 3)\n",
        "  x = layers.Conv1D(32, kernel_size=kernel_size, padding=padding)(x)\n",
        "  x = layers.BatchNormalization(momentum=momentum, epsilon=epsilon)(x)\n",
        "  x = layers.Activation(activationFunction)(x)\n",
        "  x = tNetLayer(x, 32)\n",
        "  x = layers.Conv1D(32, kernel_size=kernel_size, padding=padding)(x)\n",
        "  x = layers.BatchNormalization(momentum=momentum, epsilon=epsilon)(x)\n",
        "  x = layers.Activation(activationFunction)(x)\n",
        "  x = layers.Conv1D(64, kernel_size=kernel_size, padding=padding)(x)\n",
        "  x = layers.BatchNormalization(momentum=momentum, epsilon=epsilon)(x)\n",
        "  x = layers.Activation(activationFunction)(x)\n",
        "  x = layers.Conv1D(128, kernel_size=kernel_size, padding=padding)(x)\n",
        "  x = layers.BatchNormalization(momentum=momentum, epsilon=epsilon)(x)\n",
        "  x = layers.Activation(activationFunction)(x)\n",
        "  x = layers.Conv1D(512, kernel_size=kernel_size, padding=padding)(x)\n",
        "  x = layers.BatchNormalization(momentum=momentum, epsilon=epsilon)(x)\n",
        "  x = layers.Activation(activationFunction)(x)\n",
        "  x = layers.Conv1D(1024, kernel_size=kernel_size, padding=padding)(x)\n",
        "  x = layers.BatchNormalization(momentum=momentum, epsilon=epsilon)(x)\n",
        "  x = layers.Activation(activationFunction)(x)\n",
        "  x = layers.GlobalMaxPooling1D()(x)\n",
        "  x = layers.Dense(256)(x)\n",
        "  x = layers.BatchNormalization(momentum=momentum, epsilon=epsilon)(x)\n",
        "  x = layers.Activation(activationFunction)(x)\n",
        "  x = layers.Dropout(dropOutVal)(x)\n",
        "  x = layers.Dense(128)(x)\n",
        "  x = layers.BatchNormalization(momentum=momentum, epsilon=epsilon)(x)\n",
        "  x = layers.Activation(activationFunction)(x)\n",
        "  x = layers.Dropout(dropOutVal)(x)\n",
        "  res = layers.Dense(NUM_CLASSES, activation=denseActivationFunc)(x)\n",
        "  model = keras.Model(feed, res)\n",
        "  return model"
      ],
      "execution_count": 25,
      "outputs": []
    },
    {
      "cell_type": "code",
      "metadata": {
        "colab": {
          "base_uri": "https://localhost:8080/"
        },
        "id": "JTkhqe1Tmbz4",
        "outputId": "d6ddadb7-1738-4e6c-d0f3-6b2e7e7f6cc5"
      },
      "source": [
        "# testing different learning rate values\n",
        "model = initalizeModel(.5, activationFunc=\"softmax\")\n",
        "model.compile(\n",
        "    loss=\"sparse_categorical_crossentropy\",\n",
        "    optimizer=keras.optimizers.Adam(learning_rate=0.001),\n",
        "    metrics=[\"sparse_categorical_accuracy\"],\n",
        ")\n",
        "history = model.fit(train_dataset, epochs=1, validation_data=test_dataset)"
      ],
      "execution_count": 26,
      "outputs": [
        {
          "output_type": "stream",
          "text": [
            "4/4 [==============================] - 141s 32s/step - loss: 5.9791 - sparse_categorical_accuracy: 0.2332 - val_loss: 50.0147 - val_sparse_categorical_accuracy: 0.5747\n"
          ],
          "name": "stdout"
        }
      ]
    },
    {
      "cell_type": "code",
      "metadata": {
        "colab": {
          "base_uri": "https://localhost:8080/"
        },
        "id": "_zmB9yXxcsyw",
        "outputId": "a7ddeeb2-2c57-48bc-c219-a6f432594576"
      },
      "source": [
        "# testing different learning rate values\n",
        "model = initalizeModel(.5, activationFunc=\"softmax\")\n",
        "model.compile(\n",
        "    loss=\"sparse_categorical_crossentropy\",\n",
        "    optimizer=keras.optimizers.Adam(learning_rate=0.001),\n",
        "    metrics=[\"sparse_categorical_accuracy\"],\n",
        ")\n",
        "history = model.fit(train_dataset, epochs=100, validation_data=test_dataset)"
      ],
      "execution_count": 33,
      "outputs": [
        {
          "output_type": "stream",
          "text": [
            "Epoch 1/100\n",
            "5/5 [==============================] - 8s 851ms/step - loss: 5.5663 - sparse_categorical_accuracy: 0.4061 - val_loss: 4.1144 - val_sparse_categorical_accuracy: 0.7403\n",
            "Epoch 2/100\n",
            "5/5 [==============================] - 4s 725ms/step - loss: 4.0749 - sparse_categorical_accuracy: 0.6717 - val_loss: 2.8314 - val_sparse_categorical_accuracy: 0.8442\n",
            "Epoch 3/100\n",
            "5/5 [==============================] - 4s 729ms/step - loss: 3.2739 - sparse_categorical_accuracy: 0.7116 - val_loss: 3.3376 - val_sparse_categorical_accuracy: 0.7922\n",
            "Epoch 4/100\n",
            "5/5 [==============================] - 4s 727ms/step - loss: 2.8599 - sparse_categorical_accuracy: 0.7853 - val_loss: 3.2619 - val_sparse_categorical_accuracy: 0.8312\n",
            "Epoch 5/100\n",
            "5/5 [==============================] - 4s 728ms/step - loss: 2.7186 - sparse_categorical_accuracy: 0.8571 - val_loss: 2.3436 - val_sparse_categorical_accuracy: 0.8052\n",
            "Epoch 6/100\n",
            "5/5 [==============================] - 4s 730ms/step - loss: 2.5625 - sparse_categorical_accuracy: 0.8979 - val_loss: 2.5846 - val_sparse_categorical_accuracy: 0.8571\n",
            "Epoch 7/100\n",
            "5/5 [==============================] - 4s 730ms/step - loss: 2.5905 - sparse_categorical_accuracy: 0.8512 - val_loss: 2.4864 - val_sparse_categorical_accuracy: 0.8182\n",
            "Epoch 8/100\n",
            "5/5 [==============================] - 4s 731ms/step - loss: 2.5857 - sparse_categorical_accuracy: 0.8792 - val_loss: 2.2507 - val_sparse_categorical_accuracy: 0.8831\n",
            "Epoch 9/100\n",
            "5/5 [==============================] - 4s 734ms/step - loss: 2.7227 - sparse_categorical_accuracy: 0.8118 - val_loss: 2.4182 - val_sparse_categorical_accuracy: 0.8831\n",
            "Epoch 10/100\n",
            "5/5 [==============================] - 4s 732ms/step - loss: 2.5704 - sparse_categorical_accuracy: 0.8929 - val_loss: 2.1936 - val_sparse_categorical_accuracy: 0.9091\n",
            "Epoch 11/100\n",
            "5/5 [==============================] - 4s 731ms/step - loss: 2.4819 - sparse_categorical_accuracy: 0.8929 - val_loss: 2.3995 - val_sparse_categorical_accuracy: 0.8961\n",
            "Epoch 12/100\n",
            "5/5 [==============================] - 4s 729ms/step - loss: 2.4659 - sparse_categorical_accuracy: 0.9141 - val_loss: 2.5341 - val_sparse_categorical_accuracy: 0.9221\n",
            "Epoch 13/100\n",
            "5/5 [==============================] - 4s 732ms/step - loss: 2.3747 - sparse_categorical_accuracy: 0.9458 - val_loss: 3.4183 - val_sparse_categorical_accuracy: 0.9221\n",
            "Epoch 14/100\n",
            "5/5 [==============================] - 4s 729ms/step - loss: 2.3276 - sparse_categorical_accuracy: 0.9679 - val_loss: 4.3064 - val_sparse_categorical_accuracy: 0.9091\n",
            "Epoch 15/100\n",
            "5/5 [==============================] - 4s 728ms/step - loss: 2.5097 - sparse_categorical_accuracy: 0.8944 - val_loss: 2.5728 - val_sparse_categorical_accuracy: 0.9221\n",
            "Epoch 16/100\n",
            "5/5 [==============================] - 4s 726ms/step - loss: 2.4283 - sparse_categorical_accuracy: 0.8992 - val_loss: 2.1351 - val_sparse_categorical_accuracy: 0.9221\n",
            "Epoch 17/100\n",
            "5/5 [==============================] - 4s 726ms/step - loss: 2.4461 - sparse_categorical_accuracy: 0.9096 - val_loss: 2.7189 - val_sparse_categorical_accuracy: 0.8701\n",
            "Epoch 18/100\n",
            "5/5 [==============================] - 4s 727ms/step - loss: 2.4087 - sparse_categorical_accuracy: 0.9434 - val_loss: 2.2385 - val_sparse_categorical_accuracy: 0.8961\n",
            "Epoch 19/100\n",
            "5/5 [==============================] - 4s 725ms/step - loss: 2.3367 - sparse_categorical_accuracy: 0.9590 - val_loss: 2.2230 - val_sparse_categorical_accuracy: 0.8961\n",
            "Epoch 20/100\n",
            "5/5 [==============================] - 4s 726ms/step - loss: 2.3164 - sparse_categorical_accuracy: 0.9621 - val_loss: 2.4108 - val_sparse_categorical_accuracy: 0.9221\n",
            "Epoch 21/100\n",
            "5/5 [==============================] - 4s 725ms/step - loss: 2.3201 - sparse_categorical_accuracy: 0.9423 - val_loss: 2.4150 - val_sparse_categorical_accuracy: 0.9351\n",
            "Epoch 22/100\n",
            "5/5 [==============================] - 4s 725ms/step - loss: 2.3878 - sparse_categorical_accuracy: 0.9321 - val_loss: 2.2083 - val_sparse_categorical_accuracy: 0.9221\n",
            "Epoch 23/100\n",
            "5/5 [==============================] - 4s 725ms/step - loss: 2.4153 - sparse_categorical_accuracy: 0.9480 - val_loss: 2.1973 - val_sparse_categorical_accuracy: 0.9481\n",
            "Epoch 24/100\n",
            "5/5 [==============================] - 4s 728ms/step - loss: 2.3378 - sparse_categorical_accuracy: 0.9438 - val_loss: 3.9315 - val_sparse_categorical_accuracy: 0.8312\n",
            "Epoch 25/100\n",
            "5/5 [==============================] - 4s 729ms/step - loss: 2.3195 - sparse_categorical_accuracy: 0.9425 - val_loss: 2.3768 - val_sparse_categorical_accuracy: 0.9221\n",
            "Epoch 26/100\n",
            "5/5 [==============================] - 4s 731ms/step - loss: 2.3205 - sparse_categorical_accuracy: 0.9558 - val_loss: 2.3479 - val_sparse_categorical_accuracy: 0.9351\n",
            "Epoch 27/100\n",
            "5/5 [==============================] - 4s 727ms/step - loss: 2.3127 - sparse_categorical_accuracy: 0.9592 - val_loss: 2.2583 - val_sparse_categorical_accuracy: 0.9221\n",
            "Epoch 28/100\n",
            "5/5 [==============================] - 4s 727ms/step - loss: 2.2768 - sparse_categorical_accuracy: 0.9603 - val_loss: 2.5363 - val_sparse_categorical_accuracy: 0.9351\n",
            "Epoch 29/100\n",
            "5/5 [==============================] - 4s 726ms/step - loss: 2.3480 - sparse_categorical_accuracy: 0.9300 - val_loss: 2.4190 - val_sparse_categorical_accuracy: 0.9221\n",
            "Epoch 30/100\n",
            "5/5 [==============================] - 4s 730ms/step - loss: 2.3724 - sparse_categorical_accuracy: 0.9406 - val_loss: 2.1858 - val_sparse_categorical_accuracy: 0.9351\n",
            "Epoch 31/100\n",
            "5/5 [==============================] - 4s 733ms/step - loss: 2.2957 - sparse_categorical_accuracy: 0.9772 - val_loss: 2.0092 - val_sparse_categorical_accuracy: 0.9740\n",
            "Epoch 32/100\n",
            "5/5 [==============================] - 4s 728ms/step - loss: 2.2963 - sparse_categorical_accuracy: 0.9553 - val_loss: 2.0187 - val_sparse_categorical_accuracy: 0.9740\n",
            "Epoch 33/100\n",
            "5/5 [==============================] - 4s 731ms/step - loss: 2.2775 - sparse_categorical_accuracy: 0.9631 - val_loss: 2.0445 - val_sparse_categorical_accuracy: 0.9740\n",
            "Epoch 34/100\n",
            "5/5 [==============================] - 4s 727ms/step - loss: 2.3006 - sparse_categorical_accuracy: 0.9499 - val_loss: 2.1429 - val_sparse_categorical_accuracy: 0.9481\n",
            "Epoch 35/100\n",
            "5/5 [==============================] - 4s 727ms/step - loss: 2.3069 - sparse_categorical_accuracy: 0.9430 - val_loss: 2.2636 - val_sparse_categorical_accuracy: 0.8701\n",
            "Epoch 36/100\n",
            "5/5 [==============================] - 4s 727ms/step - loss: 2.2648 - sparse_categorical_accuracy: 0.9651 - val_loss: 2.0809 - val_sparse_categorical_accuracy: 0.9610\n",
            "Epoch 37/100\n",
            "5/5 [==============================] - 4s 725ms/step - loss: 2.3140 - sparse_categorical_accuracy: 0.9612 - val_loss: 2.1443 - val_sparse_categorical_accuracy: 0.9351\n",
            "Epoch 38/100\n",
            "5/5 [==============================] - 4s 727ms/step - loss: 2.2754 - sparse_categorical_accuracy: 0.9527 - val_loss: 2.0575 - val_sparse_categorical_accuracy: 0.9740\n",
            "Epoch 39/100\n",
            "5/5 [==============================] - 4s 727ms/step - loss: 2.2908 - sparse_categorical_accuracy: 0.9566 - val_loss: 2.5049 - val_sparse_categorical_accuracy: 0.8312\n",
            "Epoch 40/100\n",
            "5/5 [==============================] - 4s 727ms/step - loss: 2.3536 - sparse_categorical_accuracy: 0.9343 - val_loss: 2.1388 - val_sparse_categorical_accuracy: 0.9221\n",
            "Epoch 41/100\n",
            "5/5 [==============================] - 4s 729ms/step - loss: 2.2663 - sparse_categorical_accuracy: 0.9781 - val_loss: 2.2473 - val_sparse_categorical_accuracy: 0.9091\n",
            "Epoch 42/100\n",
            "5/5 [==============================] - 4s 728ms/step - loss: 2.4124 - sparse_categorical_accuracy: 0.9330 - val_loss: 2.0885 - val_sparse_categorical_accuracy: 0.9610\n",
            "Epoch 43/100\n",
            "5/5 [==============================] - 4s 728ms/step - loss: 2.2462 - sparse_categorical_accuracy: 0.9833 - val_loss: 2.0570 - val_sparse_categorical_accuracy: 0.9481\n",
            "Epoch 44/100\n",
            "5/5 [==============================] - 4s 728ms/step - loss: 2.2442 - sparse_categorical_accuracy: 0.9848 - val_loss: 1.9752 - val_sparse_categorical_accuracy: 0.9740\n",
            "Epoch 45/100\n",
            "5/5 [==============================] - 4s 729ms/step - loss: 2.2880 - sparse_categorical_accuracy: 0.9525 - val_loss: 2.2724 - val_sparse_categorical_accuracy: 0.8961\n",
            "Epoch 46/100\n",
            "5/5 [==============================] - 4s 728ms/step - loss: 2.2730 - sparse_categorical_accuracy: 0.9718 - val_loss: 2.2396 - val_sparse_categorical_accuracy: 0.9221\n",
            "Epoch 47/100\n",
            "5/5 [==============================] - 4s 730ms/step - loss: 2.2446 - sparse_categorical_accuracy: 0.9712 - val_loss: 2.0660 - val_sparse_categorical_accuracy: 0.9610\n",
            "Epoch 48/100\n",
            "5/5 [==============================] - 4s 726ms/step - loss: 2.3606 - sparse_categorical_accuracy: 0.8989 - val_loss: 2.0361 - val_sparse_categorical_accuracy: 0.9610\n",
            "Epoch 49/100\n",
            "5/5 [==============================] - 4s 728ms/step - loss: 2.2550 - sparse_categorical_accuracy: 0.9684 - val_loss: 2.1489 - val_sparse_categorical_accuracy: 0.9481\n",
            "Epoch 50/100\n",
            "5/5 [==============================] - 4s 731ms/step - loss: 2.2998 - sparse_categorical_accuracy: 0.9410 - val_loss: 1.9751 - val_sparse_categorical_accuracy: 0.9870\n",
            "Epoch 51/100\n",
            "5/5 [==============================] - 4s 729ms/step - loss: 2.2823 - sparse_categorical_accuracy: 0.9477 - val_loss: 2.1019 - val_sparse_categorical_accuracy: 0.9221\n",
            "Epoch 52/100\n",
            "5/5 [==============================] - 4s 726ms/step - loss: 2.3112 - sparse_categorical_accuracy: 0.9592 - val_loss: 2.0806 - val_sparse_categorical_accuracy: 0.9481\n",
            "Epoch 53/100\n",
            "5/5 [==============================] - 4s 729ms/step - loss: 2.3263 - sparse_categorical_accuracy: 0.9562 - val_loss: 2.0759 - val_sparse_categorical_accuracy: 0.9610\n",
            "Epoch 54/100\n",
            "5/5 [==============================] - 4s 727ms/step - loss: 2.2796 - sparse_categorical_accuracy: 0.9712 - val_loss: 1.9928 - val_sparse_categorical_accuracy: 0.9610\n",
            "Epoch 55/100\n",
            "5/5 [==============================] - 4s 729ms/step - loss: 2.2657 - sparse_categorical_accuracy: 0.9759 - val_loss: 2.0787 - val_sparse_categorical_accuracy: 0.9481\n",
            "Epoch 56/100\n",
            "5/5 [==============================] - 4s 728ms/step - loss: 2.2449 - sparse_categorical_accuracy: 0.9803 - val_loss: 2.2057 - val_sparse_categorical_accuracy: 0.9481\n",
            "Epoch 57/100\n",
            "5/5 [==============================] - 4s 728ms/step - loss: 2.2318 - sparse_categorical_accuracy: 0.9809 - val_loss: 3.0419 - val_sparse_categorical_accuracy: 0.9610\n",
            "Epoch 58/100\n",
            "5/5 [==============================] - 4s 728ms/step - loss: 2.2633 - sparse_categorical_accuracy: 0.9772 - val_loss: 2.0713 - val_sparse_categorical_accuracy: 0.9481\n",
            "Epoch 59/100\n",
            "5/5 [==============================] - 4s 728ms/step - loss: 2.2581 - sparse_categorical_accuracy: 0.9636 - val_loss: 2.4355 - val_sparse_categorical_accuracy: 0.8571\n",
            "Epoch 60/100\n",
            "5/5 [==============================] - 4s 727ms/step - loss: 2.2109 - sparse_categorical_accuracy: 0.9781 - val_loss: 2.0298 - val_sparse_categorical_accuracy: 0.9481\n",
            "Epoch 61/100\n",
            "5/5 [==============================] - 4s 728ms/step - loss: 2.4496 - sparse_categorical_accuracy: 0.9410 - val_loss: 2.3991 - val_sparse_categorical_accuracy: 0.8701\n",
            "Epoch 62/100\n",
            "5/5 [==============================] - 4s 728ms/step - loss: 2.3569 - sparse_categorical_accuracy: 0.9541 - val_loss: 2.6548 - val_sparse_categorical_accuracy: 0.9351\n",
            "Epoch 63/100\n",
            "5/5 [==============================] - 4s 729ms/step - loss: 2.3332 - sparse_categorical_accuracy: 0.9391 - val_loss: 2.1560 - val_sparse_categorical_accuracy: 0.9481\n",
            "Epoch 64/100\n",
            "5/5 [==============================] - 4s 727ms/step - loss: 2.3298 - sparse_categorical_accuracy: 0.9616 - val_loss: 2.0611 - val_sparse_categorical_accuracy: 0.9740\n",
            "Epoch 65/100\n",
            "5/5 [==============================] - 4s 725ms/step - loss: 2.2941 - sparse_categorical_accuracy: 0.9551 - val_loss: 2.0855 - val_sparse_categorical_accuracy: 0.9740\n",
            "Epoch 66/100\n",
            "5/5 [==============================] - 4s 729ms/step - loss: 2.3167 - sparse_categorical_accuracy: 0.9527 - val_loss: 2.1086 - val_sparse_categorical_accuracy: 0.9610\n",
            "Epoch 67/100\n",
            "5/5 [==============================] - 4s 729ms/step - loss: 2.2630 - sparse_categorical_accuracy: 0.9623 - val_loss: 2.0256 - val_sparse_categorical_accuracy: 0.9740\n",
            "Epoch 68/100\n",
            "5/5 [==============================] - 4s 726ms/step - loss: 2.2710 - sparse_categorical_accuracy: 0.9701 - val_loss: 2.0551 - val_sparse_categorical_accuracy: 0.9610\n",
            "Epoch 69/100\n",
            "5/5 [==============================] - 4s 731ms/step - loss: 2.2268 - sparse_categorical_accuracy: 0.9783 - val_loss: 2.1941 - val_sparse_categorical_accuracy: 0.9351\n",
            "Epoch 70/100\n",
            "5/5 [==============================] - 4s 728ms/step - loss: 2.2016 - sparse_categorical_accuracy: 0.9859 - val_loss: 2.0562 - val_sparse_categorical_accuracy: 0.9351\n",
            "Epoch 71/100\n",
            "5/5 [==============================] - 4s 727ms/step - loss: 2.2859 - sparse_categorical_accuracy: 0.9545 - val_loss: 2.2995 - val_sparse_categorical_accuracy: 0.9351\n",
            "Epoch 72/100\n",
            "5/5 [==============================] - 4s 730ms/step - loss: 2.2101 - sparse_categorical_accuracy: 0.9783 - val_loss: 2.1811 - val_sparse_categorical_accuracy: 0.9351\n",
            "Epoch 73/100\n",
            "5/5 [==============================] - 4s 728ms/step - loss: 2.3341 - sparse_categorical_accuracy: 0.9404 - val_loss: 2.1012 - val_sparse_categorical_accuracy: 0.9610\n",
            "Epoch 74/100\n",
            "5/5 [==============================] - 4s 730ms/step - loss: 2.3415 - sparse_categorical_accuracy: 0.9534 - val_loss: 2.3508 - val_sparse_categorical_accuracy: 0.8831\n",
            "Epoch 75/100\n",
            "5/5 [==============================] - 4s 728ms/step - loss: 2.3257 - sparse_categorical_accuracy: 0.9684 - val_loss: 2.0118 - val_sparse_categorical_accuracy: 0.9610\n",
            "Epoch 76/100\n",
            "5/5 [==============================] - 4s 730ms/step - loss: 2.2754 - sparse_categorical_accuracy: 0.9618 - val_loss: 2.0897 - val_sparse_categorical_accuracy: 0.9481\n",
            "Epoch 77/100\n",
            "5/5 [==============================] - 4s 729ms/step - loss: 2.2397 - sparse_categorical_accuracy: 0.9703 - val_loss: 2.0534 - val_sparse_categorical_accuracy: 0.9610\n",
            "Epoch 78/100\n",
            "5/5 [==============================] - 4s 732ms/step - loss: 2.3946 - sparse_categorical_accuracy: 0.9347 - val_loss: 2.0753 - val_sparse_categorical_accuracy: 0.9481\n",
            "Epoch 79/100\n",
            "5/5 [==============================] - 4s 728ms/step - loss: 2.3101 - sparse_categorical_accuracy: 0.9464 - val_loss: 1.9979 - val_sparse_categorical_accuracy: 0.9610\n",
            "Epoch 80/100\n",
            "5/5 [==============================] - 4s 731ms/step - loss: 2.2320 - sparse_categorical_accuracy: 0.9701 - val_loss: 2.0258 - val_sparse_categorical_accuracy: 0.9740\n",
            "Epoch 81/100\n",
            "5/5 [==============================] - 4s 730ms/step - loss: 2.2101 - sparse_categorical_accuracy: 0.9774 - val_loss: 2.1264 - val_sparse_categorical_accuracy: 0.9351\n",
            "Epoch 82/100\n",
            "5/5 [==============================] - 4s 727ms/step - loss: 2.2449 - sparse_categorical_accuracy: 0.9508 - val_loss: 2.0374 - val_sparse_categorical_accuracy: 0.9481\n",
            "Epoch 83/100\n",
            "5/5 [==============================] - 4s 729ms/step - loss: 2.2058 - sparse_categorical_accuracy: 0.9853 - val_loss: 2.1454 - val_sparse_categorical_accuracy: 0.9481\n",
            "Epoch 84/100\n",
            "5/5 [==============================] - 4s 728ms/step - loss: 2.1670 - sparse_categorical_accuracy: 0.9974 - val_loss: 2.2217 - val_sparse_categorical_accuracy: 0.9221\n",
            "Epoch 85/100\n",
            "5/5 [==============================] - 4s 727ms/step - loss: 2.1935 - sparse_categorical_accuracy: 0.9848 - val_loss: 2.0674 - val_sparse_categorical_accuracy: 0.9481\n",
            "Epoch 86/100\n",
            "5/5 [==============================] - 4s 727ms/step - loss: 2.2094 - sparse_categorical_accuracy: 0.9794 - val_loss: 1.9925 - val_sparse_categorical_accuracy: 0.9610\n",
            "Epoch 87/100\n",
            "5/5 [==============================] - 4s 730ms/step - loss: 2.1912 - sparse_categorical_accuracy: 0.9809 - val_loss: 2.0452 - val_sparse_categorical_accuracy: 0.9610\n",
            "Epoch 88/100\n",
            "5/5 [==============================] - 4s 731ms/step - loss: 2.1827 - sparse_categorical_accuracy: 0.9896 - val_loss: 2.0545 - val_sparse_categorical_accuracy: 0.9481\n",
            "Epoch 89/100\n",
            "5/5 [==============================] - 4s 729ms/step - loss: 2.1483 - sparse_categorical_accuracy: 0.9983 - val_loss: 2.1150 - val_sparse_categorical_accuracy: 0.9351\n",
            "Epoch 90/100\n",
            "5/5 [==============================] - 4s 727ms/step - loss: 2.1622 - sparse_categorical_accuracy: 0.9857 - val_loss: 2.0762 - val_sparse_categorical_accuracy: 0.9740\n",
            "Epoch 91/100\n",
            "5/5 [==============================] - 4s 726ms/step - loss: 2.1714 - sparse_categorical_accuracy: 0.9885 - val_loss: 2.1250 - val_sparse_categorical_accuracy: 0.9481\n",
            "Epoch 92/100\n",
            "5/5 [==============================] - 4s 727ms/step - loss: 2.1935 - sparse_categorical_accuracy: 0.9846 - val_loss: 2.0335 - val_sparse_categorical_accuracy: 0.9481\n",
            "Epoch 93/100\n",
            "5/5 [==============================] - 4s 729ms/step - loss: 2.1474 - sparse_categorical_accuracy: 0.9859 - val_loss: 2.0427 - val_sparse_categorical_accuracy: 0.9740\n",
            "Epoch 94/100\n",
            "5/5 [==============================] - 4s 728ms/step - loss: 2.1447 - sparse_categorical_accuracy: 0.9944 - val_loss: 2.0143 - val_sparse_categorical_accuracy: 0.9740\n",
            "Epoch 95/100\n",
            "5/5 [==============================] - 4s 730ms/step - loss: 2.1331 - sparse_categorical_accuracy: 0.9963 - val_loss: 1.9947 - val_sparse_categorical_accuracy: 0.9610\n",
            "Epoch 96/100\n",
            "5/5 [==============================] - 4s 728ms/step - loss: 2.1665 - sparse_categorical_accuracy: 0.9924 - val_loss: 1.9767 - val_sparse_categorical_accuracy: 0.9610\n",
            "Epoch 97/100\n",
            "5/5 [==============================] - 4s 727ms/step - loss: 2.1500 - sparse_categorical_accuracy: 0.9896 - val_loss: 1.9483 - val_sparse_categorical_accuracy: 0.9740\n",
            "Epoch 98/100\n",
            "5/5 [==============================] - 4s 727ms/step - loss: 2.1808 - sparse_categorical_accuracy: 0.9746 - val_loss: 1.9499 - val_sparse_categorical_accuracy: 0.9870\n",
            "Epoch 99/100\n",
            "5/5 [==============================] - 4s 729ms/step - loss: 2.1939 - sparse_categorical_accuracy: 0.9785 - val_loss: 1.9636 - val_sparse_categorical_accuracy: 0.9740\n",
            "Epoch 100/100\n",
            "5/5 [==============================] - 4s 726ms/step - loss: 2.2544 - sparse_categorical_accuracy: 0.9590 - val_loss: 2.0983 - val_sparse_categorical_accuracy: 0.9481\n"
          ],
          "name": "stdout"
        }
      ]
    },
    {
      "cell_type": "code",
      "metadata": {
        "colab": {
          "base_uri": "https://localhost:8080/",
          "height": 295
        },
        "id": "beo_7vkEdDzg",
        "outputId": "7206b7c9-a092-46b2-d4fe-752413b71668"
      },
      "source": [
        "#got this array from my other notebook\n",
        "\n",
        "pointnetpluslusacc = [0.28804348, 0.39673913, 0.46195652, 0.42934783, 0.45652174,\n",
        "       0.58695652, 0.61956522, 0.52717391, 0.55434783, 0.625     ,\n",
        "       0.52717391, 0.625     , 0.61956522, 0.625     , 0.69021739,\n",
        "       0.64673913, 0.61956522, 0.625     , 0.70652174, 0.66304348,\n",
        "       0.64673913, 0.65217391, 0.64673913, 0.67391304, 0.84782609,\n",
        "       0.76086957, 0.7173913 , 0.875     , 0.91847826, 0.83152174,\n",
        "       0.88586957, 0.9076087 , 0.9076087 , 0.90217391, 0.88586957,\n",
        "       0.89130435, 0.85326087, 0.85869565, 0.92391304, 0.92934783,\n",
        "       0.875     , 0.93478261, 0.95652174, 0.94021739, 0.94021739,\n",
        "       0.95108696, 0.92391304, 0.96195652, 0.95652174, 0.9076087 ,\n",
        "       0.95108696, 0.95652174, 0.92934783, 0.9673913 , 0.96195652,\n",
        "       0.91847826, 0.91847826, 0.94565217, 0.94565217, 0.93478261,\n",
        "       0.91304348, 0.94021739, 0.94565217, 0.92391304, 0.95108696,\n",
        "       0.95108696, 0.95652174, 0.94021739, 0.92934783, 0.94565217,\n",
        "       0.94565217, 0.92391304, 0.94021739, 0.94565217, 0.92934783,\n",
        "       0.92391304, 0.95652174, 0.94021739, 0.95108696, 0.95652174,\n",
        "       0.94021739, 0.91304348, 0.94565217, 0.95652174, 0.96195652,\n",
        "       0.93478261, 0.91847826, 0.95108696, 0.96195652, 0.95108696,\n",
        "       0.94565217, 0.95108696, 0.92934783, 0.93478261, 0.94021739,\n",
        "       0.93478261, 0.94021739, 0.93478261, 0.94565217]\n",
        "\n",
        "#plot 100 epoch accuracies \n",
        "\n",
        "plt.plot(list(history.history['val_sparse_categorical_accuracy']), label = \"PointNet\")\n",
        "plt.plot(pointnetpluslusacc, label = \"PointNet++\")\n",
        "plt.title(\"Testing Accuracy (over 100 epochs)\")\n",
        "plt.xlabel(\"Epochs\")\n",
        "plt.ylabel(\"Testing Accuracy\")\n",
        "plt.legend()\n",
        "plt.ylim((0, 1))\n",
        "plt.xticks(np.arange(0,110,10))\n",
        "plt.show()"
      ],
      "execution_count": 53,
      "outputs": [
        {
          "output_type": "display_data",
          "data": {
            "image/png": "[encoded data removed]",
            "text/plain": [
              "<Figure size 432x288 with 1 Axes>"
            ]
          },
          "metadata": {
            "tags": [],
            "needs_background": "light"
          }
        }
      ]
    },
    {
      "cell_type": "code",
      "metadata": {
        "id": "sjNH_-nYeUs6"
      },
      "source": [
        "#returns argmax of array\n",
        "def getPred(arr):\n",
        "    maxVal, maxIndex = 0, 0\n",
        "    for i in range(len(arr)):\n",
        "        if arr[i] > maxVal:\n",
        "            maxVal = arr[i]\n",
        "            maxIndex = i\n",
        "    return maxIndex\n",
        "\n",
        "#calculates error percentage \n",
        "def getTestingAccuracy(model):\n",
        "  correct = []\n",
        "  guesses = []\n",
        "  err = 0\n",
        "  for i in range(len(testing_label)):\n",
        "    pre = testing_data[i].reshape((1,NUM_POINTS,3))\n",
        "    prediction = getPred(model.predict(pre)[0] )\n",
        "    guesses.append(prediction)\n",
        "    corr_answer = testing_label[i]\n",
        "    correct.append(corr_answer[0])\n",
        "    if prediction != corr_answer[0]:\n",
        "      err += 1\n",
        "  print(1-err/len(testing_label))\n",
        "  return correct, guesses"
      ],
      "execution_count": 84,
      "outputs": []
    },
    {
      "cell_type": "code",
      "metadata": {
        "id": "i7bzGFijh0aw"
      },
      "source": [
        "#maps between class labels and actual class\n",
        "CLASS_MAP = {\n",
        "    'vans': 0,\n",
        "    'cars': 1,\n",
        "    'people': 2,\n",
        "    'bic': 3\n",
        "}"
      ],
      "execution_count": 47,
      "outputs": []
    },
    {
      "cell_type": "code",
      "metadata": {
        "colab": {
          "base_uri": "https://localhost:8080/",
          "height": 652
        },
        "id": "M6kHG9zHeIXH",
        "outputId": "083546d7-32f8-463b-c41b-325ee951f92b"
      },
      "source": [
        "model = initalizeModel(.5, activationFunc=\"softmax\")\n",
        "model.compile(\n",
        "    loss=\"sparse_categorical_crossentropy\",\n",
        "    optimizer=keras.optimizers.Adam(learning_rate=0.0001),\n",
        "    metrics=[\"sparse_categorical_accuracy\"],\n",
        ")\n",
        "model.fit(train_dataset, epochs=10, validation_data=test_dataset)\n",
        "\n",
        "# generate confusion matrix\n",
        "def generateConfusionMatrix(correct, guess):\n",
        "  matrix = tf.math.confusion_matrix(correct, guess)\n",
        "  fig, ax = plt.subplots(figsize=(4,4))         # Sample figsize in inches\n",
        "  sns.heatmap(matrix, annot=True, cmap='Blues', xticklabels=CLASS_MAP.values(), yticklabels=CLASS_MAP.values())\n",
        "  ax.set_xlabel(\"Model Preictions\")\n",
        "  ax.set_ylabel(\"Correct Classes\")\n",
        "  ax.set_title(\"Confusion Matrix\")\n",
        "  plt.show()\n",
        "\n",
        "correct, guesses = getTestingAccuracy(model)\n",
        "generateConfusionMatrix(correct, guesses)"
      ],
      "execution_count": 55,
      "outputs": [
        {
          "output_type": "stream",
          "text": [
            "Epoch 1/10\n",
            "5/5 [==============================] - 8s 843ms/step - loss: 5.8895 - sparse_categorical_accuracy: 0.3300 - val_loss: 4.7334 - val_sparse_categorical_accuracy: 0.4805\n",
            "Epoch 2/10\n",
            "5/5 [==============================] - 4s 719ms/step - loss: 5.3274 - sparse_categorical_accuracy: 0.4525 - val_loss: 4.3150 - val_sparse_categorical_accuracy: 0.5844\n",
            "Epoch 3/10\n",
            "5/5 [==============================] - 4s 724ms/step - loss: 4.9885 - sparse_categorical_accuracy: 0.5262 - val_loss: 4.1091 - val_sparse_categorical_accuracy: 0.6234\n",
            "Epoch 4/10\n",
            "5/5 [==============================] - 4s 724ms/step - loss: 4.8423 - sparse_categorical_accuracy: 0.5924 - val_loss: 3.8091 - val_sparse_categorical_accuracy: 0.8831\n",
            "Epoch 5/10\n",
            "5/5 [==============================] - 4s 724ms/step - loss: 4.5333 - sparse_categorical_accuracy: 0.6444 - val_loss: 3.6225 - val_sparse_categorical_accuracy: 0.8442\n",
            "Epoch 6/10\n",
            "5/5 [==============================] - 4s 722ms/step - loss: 4.2311 - sparse_categorical_accuracy: 0.7053 - val_loss: 3.4232 - val_sparse_categorical_accuracy: 0.8701\n",
            "Epoch 7/10\n",
            "5/5 [==============================] - 4s 721ms/step - loss: 3.9705 - sparse_categorical_accuracy: 0.7413 - val_loss: 3.3374 - val_sparse_categorical_accuracy: 0.8052\n",
            "Epoch 8/10\n",
            "5/5 [==============================] - 4s 727ms/step - loss: 3.8303 - sparse_categorical_accuracy: 0.7892 - val_loss: 3.0707 - val_sparse_categorical_accuracy: 0.8961\n",
            "Epoch 9/10\n",
            "5/5 [==============================] - 4s 723ms/step - loss: 3.6395 - sparse_categorical_accuracy: 0.8189 - val_loss: 2.9674 - val_sparse_categorical_accuracy: 0.9091\n",
            "Epoch 10/10\n",
            "5/5 [==============================] - 4s 727ms/step - loss: 3.4604 - sparse_categorical_accuracy: 0.8695 - val_loss: 2.8825 - val_sparse_categorical_accuracy: 0.9091\n",
            "0.9540229885057472\n"
          ],
          "name": "stdout"
        },
        {
          "output_type": "display_data",
          "data": {
            "image/png": "[encoded data removed]",
            "text/plain": [
              "<Figure size 288x288 with 2 Axes>"
            ]
          },
          "metadata": {
            "tags": [],
            "needs_background": "light"
          }
        }
      ]
    },
    {
      "cell_type": "markdown",
      "metadata": {
        "id": "O29PIVFJY9vr"
      },
      "source": [
        "## Experiments Below\n"
      ]
    },
    {
      "cell_type": "code",
      "metadata": {
        "colab": {
          "base_uri": "https://localhost:8080/"
        },
        "id": "ImFfxeHpmEbx",
        "outputId": "2d7676f5-4620-4826-e9ad-ea5fbf78c1ff"
      },
      "source": [
        "# testing different learning rate values\n",
        "model = initalizeModel(.5, activationFunc=\"softmax\")\n",
        "model.compile(\n",
        "    loss=\"sparse_categorical_crossentropy\",\n",
        "    optimizer=keras.optimizers.Adam(learning_rate=0.0001),\n",
        "    metrics=[\"sparse_categorical_accuracy\"],\n",
        ")\n",
        "model.fit(train_dataset, epochs=NUM_EPOCHS, validation_data=test_dataset)"
      ],
      "execution_count": 14,
      "outputs": [
        {
          "output_type": "stream",
          "text": [
            "Epoch 1/15\n",
            "5/5 [==============================] - 8s 897ms/step - loss: 5.8221 - sparse_categorical_accuracy: 0.3098 - val_loss: 4.6104 - val_sparse_categorical_accuracy: 0.4805\n",
            "Epoch 2/15\n",
            "5/5 [==============================] - 4s 720ms/step - loss: 5.5252 - sparse_categorical_accuracy: 0.3810 - val_loss: 4.2386 - val_sparse_categorical_accuracy: 0.7922\n",
            "Epoch 3/15\n",
            "5/5 [==============================] - 4s 723ms/step - loss: 5.0939 - sparse_categorical_accuracy: 0.5002 - val_loss: 4.0574 - val_sparse_categorical_accuracy: 0.8312\n",
            "Epoch 4/15\n",
            "5/5 [==============================] - 4s 725ms/step - loss: 4.7747 - sparse_categorical_accuracy: 0.5692 - val_loss: 3.7271 - val_sparse_categorical_accuracy: 0.8571\n",
            "Epoch 5/15\n",
            "5/5 [==============================] - 4s 725ms/step - loss: 4.5006 - sparse_categorical_accuracy: 0.6364 - val_loss: 3.5266 - val_sparse_categorical_accuracy: 0.9091\n",
            "Epoch 6/15\n",
            "5/5 [==============================] - 4s 726ms/step - loss: 4.3576 - sparse_categorical_accuracy: 0.6221 - val_loss: 3.4515 - val_sparse_categorical_accuracy: 0.8182\n",
            "Epoch 7/15\n",
            "5/5 [==============================] - 4s 729ms/step - loss: 4.0548 - sparse_categorical_accuracy: 0.7166 - val_loss: 3.2267 - val_sparse_categorical_accuracy: 0.9481\n",
            "Epoch 8/15\n",
            "5/5 [==============================] - 4s 726ms/step - loss: 4.0958 - sparse_categorical_accuracy: 0.6503 - val_loss: 3.0978 - val_sparse_categorical_accuracy: 0.9351\n",
            "Epoch 9/15\n",
            "5/5 [==============================] - 4s 730ms/step - loss: 3.7753 - sparse_categorical_accuracy: 0.7617 - val_loss: 2.9823 - val_sparse_categorical_accuracy: 0.9481\n",
            "Epoch 10/15\n",
            "5/5 [==============================] - 4s 731ms/step - loss: 3.7564 - sparse_categorical_accuracy: 0.7374 - val_loss: 2.8950 - val_sparse_categorical_accuracy: 0.8961\n",
            "Epoch 11/15\n",
            "5/5 [==============================] - 4s 733ms/step - loss: 3.5652 - sparse_categorical_accuracy: 0.8148 - val_loss: 2.8264 - val_sparse_categorical_accuracy: 0.9351\n",
            "Epoch 12/15\n",
            "5/5 [==============================] - 4s 734ms/step - loss: 3.4573 - sparse_categorical_accuracy: 0.8033 - val_loss: 2.6885 - val_sparse_categorical_accuracy: 0.9221\n",
            "Epoch 13/15\n",
            "5/5 [==============================] - 4s 733ms/step - loss: 3.2833 - sparse_categorical_accuracy: 0.8530 - val_loss: 2.5590 - val_sparse_categorical_accuracy: 0.9870\n",
            "Epoch 14/15\n",
            "5/5 [==============================] - 4s 736ms/step - loss: 3.2737 - sparse_categorical_accuracy: 0.8283 - val_loss: 2.4701 - val_sparse_categorical_accuracy: 0.9740\n",
            "Epoch 15/15\n",
            "5/5 [==============================] - 4s 732ms/step - loss: 3.1718 - sparse_categorical_accuracy: 0.8493 - val_loss: 2.4544 - val_sparse_categorical_accuracy: 0.9610\n"
          ],
          "name": "stdout"
        },
        {
          "output_type": "execute_result",
          "data": {
            "text/plain": [
              "<tensorflow.python.keras.callbacks.History at 0x7f6d4e4aab90>"
            ]
          },
          "metadata": {
            "tags": []
          },
          "execution_count": 14
        }
      ]
    },
    {
      "cell_type": "code",
      "metadata": {
        "colab": {
          "base_uri": "https://localhost:8080/",
          "height": 295
        },
        "id": "0t3UpwKKYsWX",
        "outputId": "1c8723ef-1a2d-4c3d-b2a0-45693239fc0c"
      },
      "source": [
        "#collected testing accuries for dirrect learning rate values from above\n",
        "#ran for 10 epochs\n",
        "lr_vals = [0.0001,0.001,0.005, 0.01]\n",
        "final_test_accuries = [0.9610, .9121, .8651, 0.8701]\n",
        "\n",
        "plt.scatter(x=lr_vals, y=final_test_accuries)\n",
        "plt.title(\"Testing Accuracy vs Learning Rate Values\")\n",
        "plt.xlabel(\"Learning Rate Values\")\n",
        "plt.ylabel(\"Testing Accuracy\")\n",
        "plt.ylim((0, 1))\n",
        "plt.xticks(np.arange(0,0.01 + .002, .002))\n",
        "plt.show()"
      ],
      "execution_count": 16,
      "outputs": [
        {
          "output_type": "display_data",
          "data": {
            "image/png": "[encoded data removed]",
            "text/plain": [
              "<Figure size 432x288 with 1 Axes>"
            ]
          },
          "metadata": {
            "tags": [],
            "needs_background": "light"
          }
        }
      ]
    },
    {
      "cell_type": "code",
      "metadata": {
        "colab": {
          "base_uri": "https://localhost:8080/"
        },
        "id": "7yW3P_7UZR-K",
        "outputId": "5dfb4737-d50d-45b2-d3f2-9d6f463f6ee8"
      },
      "source": [
        "# testing different learning rate values\n",
        "model = initalizeModel(.25, activationFunc=\"softmax\")\n",
        "model.compile(\n",
        "    loss=\"sparse_categorical_crossentropy\",\n",
        "    optimizer=keras.optimizers.Adam(learning_rate=0.0001),\n",
        "    metrics=[\"sparse_categorical_accuracy\"],\n",
        ")\n",
        "model.fit(train_dataset, epochs=NUM_EPOCHS, validation_data=test_dataset)"
      ],
      "execution_count": 18,
      "outputs": [
        {
          "output_type": "stream",
          "text": [
            "Epoch 1/15\n",
            "5/5 [==============================] - 8s 851ms/step - loss: 5.7143 - sparse_categorical_accuracy: 0.2755 - val_loss: 4.3967 - val_sparse_categorical_accuracy: 0.6753\n",
            "Epoch 2/15\n",
            "5/5 [==============================] - 4s 724ms/step - loss: 5.2400 - sparse_categorical_accuracy: 0.4581 - val_loss: 4.2030 - val_sparse_categorical_accuracy: 0.7662\n",
            "Epoch 3/15\n",
            "5/5 [==============================] - 4s 725ms/step - loss: 4.8271 - sparse_categorical_accuracy: 0.6145 - val_loss: 4.0351 - val_sparse_categorical_accuracy: 0.7403\n",
            "Epoch 4/15\n",
            "5/5 [==============================] - 4s 727ms/step - loss: 4.5873 - sparse_categorical_accuracy: 0.6615 - val_loss: 3.7034 - val_sparse_categorical_accuracy: 0.8052\n",
            "Epoch 5/15\n",
            "5/5 [==============================] - 4s 725ms/step - loss: 4.2310 - sparse_categorical_accuracy: 0.7821 - val_loss: 3.4968 - val_sparse_categorical_accuracy: 0.8571\n",
            "Epoch 6/15\n",
            "5/5 [==============================] - 4s 727ms/step - loss: 4.0019 - sparse_categorical_accuracy: 0.8153 - val_loss: 3.3406 - val_sparse_categorical_accuracy: 0.8182\n",
            "Epoch 7/15\n",
            "5/5 [==============================] - 4s 729ms/step - loss: 3.8458 - sparse_categorical_accuracy: 0.8335 - val_loss: 3.1368 - val_sparse_categorical_accuracy: 0.9351\n",
            "Epoch 8/15\n",
            "5/5 [==============================] - 4s 732ms/step - loss: 3.6354 - sparse_categorical_accuracy: 0.8660 - val_loss: 2.9886 - val_sparse_categorical_accuracy: 0.9091\n",
            "Epoch 9/15\n",
            "5/5 [==============================] - 4s 729ms/step - loss: 3.5149 - sparse_categorical_accuracy: 0.8768 - val_loss: 2.8678 - val_sparse_categorical_accuracy: 0.9481\n",
            "Epoch 10/15\n",
            "5/5 [==============================] - 4s 731ms/step - loss: 3.3293 - sparse_categorical_accuracy: 0.9150 - val_loss: 2.8329 - val_sparse_categorical_accuracy: 0.9221\n",
            "Epoch 11/15\n",
            "5/5 [==============================] - 4s 732ms/step - loss: 3.1940 - sparse_categorical_accuracy: 0.9126 - val_loss: 2.7105 - val_sparse_categorical_accuracy: 0.8961\n",
            "Epoch 12/15\n",
            "5/5 [==============================] - 4s 732ms/step - loss: 3.0924 - sparse_categorical_accuracy: 0.9235 - val_loss: 2.6413 - val_sparse_categorical_accuracy: 0.9351\n",
            "Epoch 13/15\n",
            "5/5 [==============================] - 4s 731ms/step - loss: 3.0023 - sparse_categorical_accuracy: 0.9395 - val_loss: 2.6092 - val_sparse_categorical_accuracy: 0.9221\n",
            "Epoch 14/15\n",
            "5/5 [==============================] - 4s 732ms/step - loss: 2.9719 - sparse_categorical_accuracy: 0.9295 - val_loss: 2.4913 - val_sparse_categorical_accuracy: 0.9610\n",
            "Epoch 15/15\n",
            "5/5 [==============================] - 4s 728ms/step - loss: 2.8646 - sparse_categorical_accuracy: 0.9404 - val_loss: 2.4047 - val_sparse_categorical_accuracy: 0.9610\n"
          ],
          "name": "stdout"
        },
        {
          "output_type": "execute_result",
          "data": {
            "text/plain": [
              "<tensorflow.python.keras.callbacks.History at 0x7f6cb86627d0>"
            ]
          },
          "metadata": {
            "tags": []
          },
          "execution_count": 18
        }
      ]
    },
    {
      "cell_type": "code",
      "metadata": {
        "colab": {
          "base_uri": "https://localhost:8080/",
          "height": 295
        },
        "id": "vOYRzpN0ZXrM",
        "outputId": "1d46385e-eef4-43a3-dd34-f2780e1afedf"
      },
      "source": [
        "#collected testing accuries for dirrect dropout values from above\n",
        "dropouts = [.1,.25,.35,.5]\n",
        "final_test_accuries = [0.9610, .9610, .9221, .9091]\n",
        "\n",
        "plt.scatter(dropouts, final_test_accuries)\n",
        "plt.title(\"Testing Accuracy vs Dropout Value\")\n",
        "plt.xlabel(\"Dropout Value\")\n",
        "plt.ylabel(\"Testing Accuracy\")\n",
        "plt.ylim((0, 1))\n",
        "plt.xticks(np.arange(0,.55,.05))\n",
        "plt.show()"
      ],
      "execution_count": 21,
      "outputs": [
        {
          "output_type": "display_data",
          "data": {
            "image/png": "[encoded data removed]",
            "text/plain": [
              "<Figure size 432x288 with 1 Axes>"
            ]
          },
          "metadata": {
            "tags": [],
            "needs_background": "light"
          }
        }
      ]
    },
    {
      "cell_type": "code",
      "metadata": {
        "colab": {
          "base_uri": "https://localhost:8080/"
        },
        "id": "A5qtdiALaNut",
        "outputId": "0b3f2563-9c91-4430-a8d9-2f6e53d9cb11"
      },
      "source": [
        "# testing different learning rate values (RMSprop)\n",
        "model = initalizeModel(.25, activationFunc=\"softmax\")\n",
        "model.compile(\n",
        "    loss=\"sparse_categorical_crossentropy\",\n",
        "    optimizer=keras.optimizers.RMSprop(learning_rate=0.0001),\n",
        "    metrics=[\"sparse_categorical_accuracy\"],\n",
        ")\n",
        "model.fit(train_dataset, epochs=NUM_EPOCHS, validation_data=test_dataset)"
      ],
      "execution_count": 22,
      "outputs": [
        {
          "output_type": "stream",
          "text": [
            "Epoch 1/15\n",
            "5/5 [==============================] - 9s 866ms/step - loss: 5.6727 - sparse_categorical_accuracy: 0.3165 - val_loss: 4.4431 - val_sparse_categorical_accuracy: 0.8182\n",
            "Epoch 2/15\n",
            "5/5 [==============================] - 4s 730ms/step - loss: 4.7690 - sparse_categorical_accuracy: 0.7387 - val_loss: 3.8548 - val_sparse_categorical_accuracy: 0.8571\n",
            "Epoch 3/15\n",
            "5/5 [==============================] - 4s 723ms/step - loss: 4.2533 - sparse_categorical_accuracy: 0.8313 - val_loss: 3.4864 - val_sparse_categorical_accuracy: 0.7922\n",
            "Epoch 4/15\n",
            "5/5 [==============================] - 4s 725ms/step - loss: 4.0273 - sparse_categorical_accuracy: 0.8454 - val_loss: 3.1877 - val_sparse_categorical_accuracy: 0.9740\n",
            "Epoch 5/15\n",
            "5/5 [==============================] - 4s 726ms/step - loss: 3.7455 - sparse_categorical_accuracy: 0.9011 - val_loss: 3.0558 - val_sparse_categorical_accuracy: 0.8701\n",
            "Epoch 6/15\n",
            "5/5 [==============================] - 4s 728ms/step - loss: 3.5387 - sparse_categorical_accuracy: 0.9187 - val_loss: 3.0550 - val_sparse_categorical_accuracy: 0.8831\n",
            "Epoch 7/15\n",
            "5/5 [==============================] - 4s 727ms/step - loss: 3.3825 - sparse_categorical_accuracy: 0.9445 - val_loss: 2.8202 - val_sparse_categorical_accuracy: 0.8701\n",
            "Epoch 8/15\n",
            "5/5 [==============================] - 4s 728ms/step - loss: 3.2548 - sparse_categorical_accuracy: 0.9443 - val_loss: 2.7717 - val_sparse_categorical_accuracy: 0.9221\n",
            "Epoch 9/15\n",
            "5/5 [==============================] - 4s 730ms/step - loss: 3.1405 - sparse_categorical_accuracy: 0.9306 - val_loss: 2.5461 - val_sparse_categorical_accuracy: 0.9351\n",
            "Epoch 10/15\n",
            "5/5 [==============================] - 4s 734ms/step - loss: 2.9960 - sparse_categorical_accuracy: 0.9545 - val_loss: 2.5581 - val_sparse_categorical_accuracy: 0.9221\n",
            "Epoch 11/15\n",
            "5/5 [==============================] - 4s 731ms/step - loss: 2.9269 - sparse_categorical_accuracy: 0.9545 - val_loss: 2.4171 - val_sparse_categorical_accuracy: 0.9740\n",
            "Epoch 12/15\n",
            "5/5 [==============================] - 4s 733ms/step - loss: 2.8291 - sparse_categorical_accuracy: 0.9538 - val_loss: 2.3793 - val_sparse_categorical_accuracy: 0.9221\n",
            "Epoch 13/15\n",
            "5/5 [==============================] - 4s 734ms/step - loss: 2.7890 - sparse_categorical_accuracy: 0.9503 - val_loss: 2.4094 - val_sparse_categorical_accuracy: 0.9221\n",
            "Epoch 14/15\n",
            "5/5 [==============================] - 4s 732ms/step - loss: 2.6896 - sparse_categorical_accuracy: 0.9681 - val_loss: 2.2440 - val_sparse_categorical_accuracy: 0.9870\n",
            "Epoch 15/15\n",
            "5/5 [==============================] - 4s 733ms/step - loss: 2.6319 - sparse_categorical_accuracy: 0.9584 - val_loss: 2.3644 - val_sparse_categorical_accuracy: 0.8961\n"
          ],
          "name": "stdout"
        },
        {
          "output_type": "execute_result",
          "data": {
            "text/plain": [
              "<tensorflow.python.keras.callbacks.History at 0x7f6cae7e33d0>"
            ]
          },
          "metadata": {
            "tags": []
          },
          "execution_count": 22
        }
      ]
    },
    {
      "cell_type": "code",
      "metadata": {
        "colab": {
          "base_uri": "https://localhost:8080/"
        },
        "id": "V_jVNZsAatfu",
        "outputId": "43b6539a-9944-4b11-9aaa-c3b16521674b"
      },
      "source": [
        "# testing different optimizers (SGD)\n",
        "model = initalizeModel(.25, activationFunc=\"softmax\")\n",
        "model.compile(\n",
        "    loss=\"sparse_categorical_crossentropy\",\n",
        "    optimizer=keras.optimizers.SGD(learning_rate=0.0001),\n",
        "    metrics=[\"sparse_categorical_accuracy\"],\n",
        ")\n",
        "model.fit(train_dataset, epochs=NUM_EPOCHS, validation_data=test_dataset)"
      ],
      "execution_count": 23,
      "outputs": [
        {
          "output_type": "stream",
          "text": [
            "Epoch 1/15\n",
            "5/5 [==============================] - 8s 848ms/step - loss: 5.8948 - sparse_categorical_accuracy: 0.2352 - val_loss: 4.6995 - val_sparse_categorical_accuracy: 0.5325\n",
            "Epoch 2/15\n",
            "5/5 [==============================] - 4s 726ms/step - loss: 5.6119 - sparse_categorical_accuracy: 0.3129 - val_loss: 5.0397 - val_sparse_categorical_accuracy: 0.2857\n",
            "Epoch 3/15\n",
            "5/5 [==============================] - 4s 726ms/step - loss: 5.5723 - sparse_categorical_accuracy: 0.3324 - val_loss: 4.9565 - val_sparse_categorical_accuracy: 0.3377\n",
            "Epoch 4/15\n",
            "5/5 [==============================] - 4s 727ms/step - loss: 5.4064 - sparse_categorical_accuracy: 0.3734 - val_loss: 4.9139 - val_sparse_categorical_accuracy: 0.6623\n",
            "Epoch 5/15\n",
            "5/5 [==============================] - 4s 727ms/step - loss: 5.4250 - sparse_categorical_accuracy: 0.3887 - val_loss: 4.5829 - val_sparse_categorical_accuracy: 0.6494\n",
            "Epoch 6/15\n",
            "5/5 [==============================] - 4s 727ms/step - loss: 5.3772 - sparse_categorical_accuracy: 0.4065 - val_loss: 4.8258 - val_sparse_categorical_accuracy: 0.5974\n",
            "Epoch 7/15\n",
            "5/5 [==============================] - 4s 730ms/step - loss: 5.3367 - sparse_categorical_accuracy: 0.4308 - val_loss: 4.6444 - val_sparse_categorical_accuracy: 0.6494\n",
            "Epoch 8/15\n",
            "5/5 [==============================] - 4s 731ms/step - loss: 5.2881 - sparse_categorical_accuracy: 0.4382 - val_loss: 4.7724 - val_sparse_categorical_accuracy: 0.5065\n",
            "Epoch 9/15\n",
            "5/5 [==============================] - 4s 731ms/step - loss: 5.3463 - sparse_categorical_accuracy: 0.4219 - val_loss: 4.4886 - val_sparse_categorical_accuracy: 0.5714\n",
            "Epoch 10/15\n",
            "5/5 [==============================] - 4s 732ms/step - loss: 5.1702 - sparse_categorical_accuracy: 0.4581 - val_loss: 4.6715 - val_sparse_categorical_accuracy: 0.6104\n",
            "Epoch 11/15\n",
            "5/5 [==============================] - 4s 735ms/step - loss: 5.0985 - sparse_categorical_accuracy: 0.5286 - val_loss: 4.1379 - val_sparse_categorical_accuracy: 0.8831\n",
            "Epoch 12/15\n",
            "5/5 [==============================] - 4s 730ms/step - loss: 5.0834 - sparse_categorical_accuracy: 0.5186 - val_loss: 4.3880 - val_sparse_categorical_accuracy: 0.8182\n",
            "Epoch 13/15\n",
            "5/5 [==============================] - 4s 730ms/step - loss: 4.9768 - sparse_categorical_accuracy: 0.5314 - val_loss: 4.1707 - val_sparse_categorical_accuracy: 0.8052\n",
            "Epoch 14/15\n",
            "5/5 [==============================] - 4s 729ms/step - loss: 4.9436 - sparse_categorical_accuracy: 0.6019 - val_loss: 4.4132 - val_sparse_categorical_accuracy: 0.5974\n",
            "Epoch 15/15\n",
            "5/5 [==============================] - 4s 728ms/step - loss: 4.9751 - sparse_categorical_accuracy: 0.5369 - val_loss: 4.1260 - val_sparse_categorical_accuracy: 0.7532\n"
          ],
          "name": "stdout"
        },
        {
          "output_type": "execute_result",
          "data": {
            "text/plain": [
              "<tensorflow.python.keras.callbacks.History at 0x7f6a886cbb10>"
            ]
          },
          "metadata": {
            "tags": []
          },
          "execution_count": 23
        }
      ]
    },
    {
      "cell_type": "code",
      "metadata": {
        "colab": {
          "base_uri": "https://localhost:8080/",
          "height": 310
        },
        "id": "550xonNzaeTA",
        "outputId": "aca005fc-6a60-4195-daa8-bb3c60c595c5"
      },
      "source": [
        "optimizerLabel = [\"Adam\", \"RMSprop\", \"SGD\"]\n",
        "optimizer_accuracy = [.9610, 0.8961, .7532]\n",
        "plt.scatter(x=[0,1,2], y=optimizer_accuracy)\n",
        "plt.title(\"Testing Accuracy vs Optimizer\")\n",
        "plt.xlabel(\"Optimizer\")\n",
        "plt.ylabel(\"Testing Accuracy\")\n",
        "plt.xticks([0, 1, 2], ['Adam', 'RMSprop', 'SGD'], rotation=20)\n",
        "plt.ylim((0, 1))\n",
        "plt.show()"
      ],
      "execution_count": 58,
      "outputs": [
        {
          "output_type": "display_data",
          "data": {
            "image/png": "[encoded data removed]",
            "text/plain": [
              "<Figure size 432x288 with 1 Axes>"
            ]
          },
          "metadata": {
            "tags": [],
            "needs_background": "light"
          }
        }
      ]
    },
    {
      "cell_type": "code",
      "metadata": {
        "colab": {
          "base_uri": "https://localhost:8080/"
        },
        "id": "rYtSvGg5mQh8",
        "outputId": "db0f7264-0117-4105-b8e7-f48447a237c4"
      },
      "source": [
        "# testing different architectures\n",
        "model = initalizeModel(.25, activationFunc=\"softmax\")\n",
        "model.compile(\n",
        "    loss=\"sparse_categorical_crossentropy\",\n",
        "    optimizer=keras.optimizers.SGD(learning_rate=0.0001),\n",
        "    metrics=[\"sparse_categorical_accuracy\"],\n",
        ")\n",
        "model.fit(train_dataset, epochs=NUM_EPOCHS, validation_data=test_dataset)"
      ],
      "execution_count": 97,
      "outputs": [
        {
          "output_type": "stream",
          "text": [
            "Epoch 1/15\n",
            "5/5 [==============================] - ETA: 0s - loss: 5.8130 - sparse_categorical_accuracy: 0.2583WARNING:tensorflow:6 out of the last 11 calls to <function Model.make_test_function.<locals>.test_function at 0x7f6a78118cb0> triggered tf.function retracing. Tracing is expensive and the excessive number of tracings could be due to (1) creating @tf.function repeatedly in a loop, (2) passing tensors with different shapes, (3) passing Python objects instead of tensors. For (1), please define your @tf.function outside of the loop. For (2), @tf.function has experimental_relax_shapes=True option that relaxes argument shapes that can avoid unnecessary retracing. For (3), please refer to https://www.tensorflow.org/guide/function#controlling_retracing and https://www.tensorflow.org/api_docs/python/tf/function for  more details.\n",
            "5/5 [==============================] - 8s 849ms/step - loss: 5.7763 - sparse_categorical_accuracy: 0.2656 - val_loss: 4.9912 - val_sparse_categorical_accuracy: 0.2857\n",
            "Epoch 2/15\n",
            "5/5 [==============================] - 4s 719ms/step - loss: 5.6520 - sparse_categorical_accuracy: 0.3198 - val_loss: 4.8424 - val_sparse_categorical_accuracy: 0.4545\n",
            "Epoch 3/15\n",
            "5/5 [==============================] - 4s 715ms/step - loss: 5.5530 - sparse_categorical_accuracy: 0.4178 - val_loss: 4.8339 - val_sparse_categorical_accuracy: 0.4545\n",
            "Epoch 4/15\n",
            "5/5 [==============================] - 4s 718ms/step - loss: 5.4220 - sparse_categorical_accuracy: 0.4157 - val_loss: 4.6371 - val_sparse_categorical_accuracy: 0.5195\n",
            "Epoch 5/15\n",
            "5/5 [==============================] - 4s 716ms/step - loss: 5.3738 - sparse_categorical_accuracy: 0.3996 - val_loss: 4.5394 - val_sparse_categorical_accuracy: 0.5974\n",
            "Epoch 6/15\n",
            "5/5 [==============================] - 4s 716ms/step - loss: 5.3963 - sparse_categorical_accuracy: 0.4362 - val_loss: 4.6337 - val_sparse_categorical_accuracy: 0.6104\n",
            "Epoch 7/15\n",
            "5/5 [==============================] - 4s 719ms/step - loss: 5.2295 - sparse_categorical_accuracy: 0.5191 - val_loss: 4.4643 - val_sparse_categorical_accuracy: 0.7532\n",
            "Epoch 8/15\n",
            "5/5 [==============================] - 4s 723ms/step - loss: 5.1763 - sparse_categorical_accuracy: 0.5187 - val_loss: 4.3746 - val_sparse_categorical_accuracy: 0.6234\n",
            "Epoch 9/15\n",
            "5/5 [==============================] - 4s 721ms/step - loss: 5.1086 - sparse_categorical_accuracy: 0.4965 - val_loss: 4.3759 - val_sparse_categorical_accuracy: 0.7403\n",
            "Epoch 10/15\n",
            "5/5 [==============================] - 4s 721ms/step - loss: 5.1945 - sparse_categorical_accuracy: 0.5137 - val_loss: 4.2494 - val_sparse_categorical_accuracy: 0.8442\n",
            "Epoch 11/15\n",
            "5/5 [==============================] - 4s 718ms/step - loss: 5.0013 - sparse_categorical_accuracy: 0.5707 - val_loss: 4.3998 - val_sparse_categorical_accuracy: 0.7532\n",
            "Epoch 12/15\n",
            "5/5 [==============================] - 4s 722ms/step - loss: 4.9967 - sparse_categorical_accuracy: 0.5815 - val_loss: 4.2432 - val_sparse_categorical_accuracy: 0.8701\n",
            "Epoch 13/15\n",
            "5/5 [==============================] - 4s 717ms/step - loss: 4.9971 - sparse_categorical_accuracy: 0.5611 - val_loss: 4.2905 - val_sparse_categorical_accuracy: 0.7403\n",
            "Epoch 14/15\n",
            "5/5 [==============================] - 4s 721ms/step - loss: 4.9004 - sparse_categorical_accuracy: 0.6544 - val_loss: 4.2842 - val_sparse_categorical_accuracy: 0.7013\n",
            "Epoch 15/15\n",
            "5/5 [==============================] - 4s 718ms/step - loss: 4.9758 - sparse_categorical_accuracy: 0.5368 - val_loss: 4.4871 - val_sparse_categorical_accuracy: 0.7792\n"
          ],
          "name": "stdout"
        },
        {
          "output_type": "execute_result",
          "data": {
            "text/plain": [
              "<tensorflow.python.keras.callbacks.History at 0x7f6a76bbb750>"
            ]
          },
          "metadata": {
            "tags": []
          },
          "execution_count": 97
        }
      ]
    },
    {
      "cell_type": "code",
      "metadata": {
        "colab": {
          "base_uri": "https://localhost:8080/",
          "height": 321
        },
        "id": "teKXacO_ltP6",
        "outputId": "0fb4b289-34a3-42ee-b4b2-878ef7afe6d3"
      },
      "source": [
        "arch_accuracy = [0.7792, 0.9351, 0.9740]\n",
        "plt.scatter(x=[0,1,2], y=arch_accuracy)\n",
        "plt.title(\"Testing Accuracy vs Network Architecture\")\n",
        "plt.xlabel(\"Architecture Type\")\n",
        "plt.ylabel(\"Testing Accuracy\")\n",
        "plt.xticks([0, 1, 2], [\"Network Arch 1\", \"Network Arch 2\", \"Network Arch 3\"], rotation=20)\n",
        "plt.ylim((0, 1))\n",
        "plt.show()"
      ],
      "execution_count": 101,
      "outputs": [
        {
          "output_type": "display_data",
          "data": {
            "image/png": "[encoded data removed]",
            "text/plain": [
              "<Figure size 432x288 with 1 Axes>"
            ]
          },
          "metadata": {
            "tags": [],
            "needs_background": "light"
          }
        }
      ]
    },
    {
      "cell_type": "code",
      "metadata": {
        "colab": {
          "base_uri": "https://localhost:8080/",
          "height": 483
        },
        "id": "JwBPpJaJj7Gx",
        "outputId": "f6aae031-bf79-4c3b-b18a-39c37b60dbf1"
      },
      "source": [
        "#table with all the data\n",
        "experiment_name = [\"Dropout Value\", \"Dropout Value\", \"Dropout Value\", \"Dropout Value\", \n",
        "                   \"Learning Rate\", \"Learning Rate\", \"Learning Rate\", \"Learning Rate\",\n",
        "                   \"Optimizer\", \"Optimizer\", \"Optimizer\", \"MLP Architecture\", \"MLP Architecture\", \"MLP Architecture\"]\n",
        "valTested = [.1,.25,.35,.5,0.0001,0.001,0.005,0.01, \"ADAM\", \"RMSprop\", \"SGD\", \"MLP Arch 1\", \"MLP Arch 2\", \"MLP Arch 3\"]\n",
        "result_accuracy = [0.9610, .9610, .9221, .9091,0.9610, .9121, .8651, 0.8701,.9610, 0.8961, .7532,0.7792, 0.9351, 0.9740]\n",
        "\n",
        "d = {'Experiment': experiment_name, 'Value Tested': valTested, 'Accuracy': result_accuracy}\n",
        "df = pd.DataFrame(data=d)\n",
        "df"
      ],
      "execution_count": 100,
      "outputs": [
        {
          "output_type": "execute_result",
          "data": {
            "text/html": [
              "<div>\n",
              "<style scoped>\n",
              "    .dataframe tbody tr th:only-of-type {\n",
              "        vertical-align: middle;\n",
              "    }\n",
              "\n",
              "    .dataframe tbody tr th {\n",
              "        vertical-align: top;\n",
              "    }\n",
              "\n",
              "    .dataframe thead th {\n",
              "        text-align: right;\n",
              "    }\n",
              "</style>\n",
              "<table border=\"1\" class=\"dataframe\">\n",
              "  <thead>\n",
              "    <tr style=\"text-align: right;\">\n",
              "      <th></th>\n",
              "      <th>Experiment</th>\n",
              "      <th>Value Tested</th>\n",
              "      <th>Accuracy</th>\n",
              "    </tr>\n",
              "  </thead>\n",
              "  <tbody>\n",
              "    <tr>\n",
              "      <th>0</th>\n",
              "      <td>Dropout Value</td>\n",
              "      <td>0.1</td>\n",
              "      <td>0.9610</td>\n",
              "    </tr>\n",
              "    <tr>\n",
              "      <th>1</th>\n",
              "      <td>Dropout Value</td>\n",
              "      <td>0.25</td>\n",
              "      <td>0.9610</td>\n",
              "    </tr>\n",
              "    <tr>\n",
              "      <th>2</th>\n",
              "      <td>Dropout Value</td>\n",
              "      <td>0.35</td>\n",
              "      <td>0.9221</td>\n",
              "    </tr>\n",
              "    <tr>\n",
              "      <th>3</th>\n",
              "      <td>Dropout Value</td>\n",
              "      <td>0.5</td>\n",
              "      <td>0.9091</td>\n",
              "    </tr>\n",
              "    <tr>\n",
              "      <th>4</th>\n",
              "      <td>Learning Rate</td>\n",
              "      <td>0.0001</td>\n",
              "      <td>0.9610</td>\n",
              "    </tr>\n",
              "    <tr>\n",
              "      <th>5</th>\n",
              "      <td>Learning Rate</td>\n",
              "      <td>0.001</td>\n",
              "      <td>0.9121</td>\n",
              "    </tr>\n",
              "    <tr>\n",
              "      <th>6</th>\n",
              "      <td>Learning Rate</td>\n",
              "      <td>0.005</td>\n",
              "      <td>0.8651</td>\n",
              "    </tr>\n",
              "    <tr>\n",
              "      <th>7</th>\n",
              "      <td>Learning Rate</td>\n",
              "      <td>0.01</td>\n",
              "      <td>0.8701</td>\n",
              "    </tr>\n",
              "    <tr>\n",
              "      <th>8</th>\n",
              "      <td>Optimizer</td>\n",
              "      <td>ADAM</td>\n",
              "      <td>0.9610</td>\n",
              "    </tr>\n",
              "    <tr>\n",
              "      <th>9</th>\n",
              "      <td>Optimizer</td>\n",
              "      <td>RMSprop</td>\n",
              "      <td>0.8961</td>\n",
              "    </tr>\n",
              "    <tr>\n",
              "      <th>10</th>\n",
              "      <td>Optimizer</td>\n",
              "      <td>SGD</td>\n",
              "      <td>0.7532</td>\n",
              "    </tr>\n",
              "    <tr>\n",
              "      <th>11</th>\n",
              "      <td>MLP Architecture</td>\n",
              "      <td>MLP Arch 1</td>\n",
              "      <td>0.7792</td>\n",
              "    </tr>\n",
              "    <tr>\n",
              "      <th>12</th>\n",
              "      <td>MLP Architecture</td>\n",
              "      <td>MLP Arch 2</td>\n",
              "      <td>0.9351</td>\n",
              "    </tr>\n",
              "    <tr>\n",
              "      <th>13</th>\n",
              "      <td>MLP Architecture</td>\n",
              "      <td>MLP Arch 3</td>\n",
              "      <td>0.9740</td>\n",
              "    </tr>\n",
              "  </tbody>\n",
              "</table>\n",
              "</div>"
            ],
            "text/plain": [
              "          Experiment Value Tested  Accuracy\n",
              "0      Dropout Value          0.1    0.9610\n",
              "1      Dropout Value         0.25    0.9610\n",
              "2      Dropout Value         0.35    0.9221\n",
              "3      Dropout Value          0.5    0.9091\n",
              "4      Learning Rate       0.0001    0.9610\n",
              "5      Learning Rate        0.001    0.9121\n",
              "6      Learning Rate        0.005    0.8651\n",
              "7      Learning Rate         0.01    0.8701\n",
              "8          Optimizer         ADAM    0.9610\n",
              "9          Optimizer      RMSprop    0.8961\n",
              "10         Optimizer          SGD    0.7532\n",
              "11  MLP Architecture   MLP Arch 1    0.7792\n",
              "12  MLP Architecture   MLP Arch 2    0.9351\n",
              "13  MLP Architecture   MLP Arch 3    0.9740"
            ]
          },
          "metadata": {
            "tags": []
          },
          "execution_count": 100
        }
      ]
    }
  ]
}