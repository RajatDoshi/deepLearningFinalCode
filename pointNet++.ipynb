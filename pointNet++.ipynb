{
  "nbformat": 4,
  "nbformat_minor": 0,
  "metadata": {
    "colab": {
      "name": "finalPointCloud++.ipynb",
      "provenance": [],
      "collapsed_sections": []
    },
    "kernelspec": {
      "name": "python3",
      "display_name": "Python 3"
    },
    "language_info": {
      "name": "python"
    },
    "accelerator": "TPU"
  },
  "cells": [
    {
      "cell_type": "code",
      "metadata": {
        "id": "_4PlYm5MsRdT"
      },
      "source": [
        "!pip install -q torch-scatter -f https://pytorch-geometric.com/whl/torch-1.8.0+cu101.html\n",
        "!pip install -q torch-sparse -f https://pytorch-geometric.com/whl/torch-1.8.0+cu101.html\n",
        "!pip install -q torch-cluster -f https://pytorch-geometric.com/whl/torch-1.8.0+cu101.html\n",
        "!pip install -q torch-geometric"
      ],
      "execution_count": 1,
      "outputs": []
    },
    {
      "cell_type": "code",
      "metadata": {
        "id": "1LgXQn6lLSNq"
      },
      "source": [
        "#import statements\n",
        "from torch_geometric.data import InMemoryDataset, Data\n",
        "from torch_cluster import knn_graph\n",
        "from torch.nn import Sequential, Linear, ReLU\n",
        "from torch_geometric.data import DataLoader\n",
        "from torch_geometric.nn import MessagePassing\n",
        "from torch_geometric.nn import global_max_pool\n",
        "import matplotlib.pyplot as plt\n",
        "import torch.nn.functional as F\n",
        "import tensorflow as tf\n",
        "import seaborn as sns\n",
        "import pandas as pd\n",
        "import numpy as np\n",
        "import torch"
      ],
      "execution_count": 60,
      "outputs": []
    },
    {
      "cell_type": "code",
      "metadata": {
        "colab": {
          "base_uri": "https://localhost:8080/"
        },
        "id": "KJW6Ir1Urnlv",
        "outputId": "1c3b9513-cecb-40e7-b4e2-6fa56e6cc922"
      },
      "source": [
        "from google.colab import drive\n",
        "drive.mount('/content/gdrive')"
      ],
      "execution_count": 3,
      "outputs": [
        {
          "output_type": "stream",
          "text": [
            "Drive already mounted at /content/gdrive; to attempt to forcibly remount, call drive.mount(\"/content/gdrive\", force_remount=True).\n"
          ],
          "name": "stdout"
        }
      ]
    },
    {
      "cell_type": "code",
      "metadata": {
        "colab": {
          "base_uri": "https://localhost:8080/"
        },
        "id": "_3ocM6LKrstD",
        "outputId": "0fa2cad2-ea86-4b1e-cba6-d120188d876c"
      },
      "source": [
        "# reads and returns the data from google drive  \n",
        "def readData(filename, dtype=float):\n",
        "    def openFile():\n",
        "        with open(filename, 'r') as f:\n",
        "            for line in f:\n",
        "                line = line.rstrip().split(',')\n",
        "                for elm in line:\n",
        "                    yield dtype(elm)\n",
        "        readData.length = len(line)\n",
        "\n",
        "    d = np.fromiter(openFile(), dtype=dtype)\n",
        "    d = d.reshape((-1, readData.length))\n",
        "    return d\n",
        "\n",
        "data = readData('/content/gdrive/My Drive/best2ndData5k4Classes.csv')\n",
        "labels = readData('/content/gdrive/My Drive/best2ndLabels5k4Classes.csv')\n",
        "\n",
        "print(labels.shape)\n",
        "\n",
        "all_data = data.reshape(-1, 5000, 3)\n",
        "print(all_data.shape)"
      ],
      "execution_count": 4,
      "outputs": [
        {
          "output_type": "stream",
          "text": [
            "(385, 1)\n",
            "(385, 5000, 3)\n"
          ],
          "name": "stdout"
        }
      ]
    },
    {
      "cell_type": "code",
      "metadata": {
        "id": "p0_HIoD61V_o"
      },
      "source": [
        "#maps between class labels and actual class\n",
        "CLASS_MAP = {\n",
        "    'vans': 0,\n",
        "    'cars': 1,\n",
        "    'people': 2,\n",
        "    'bic': 3\n",
        "}"
      ],
      "execution_count": 5,
      "outputs": []
    },
    {
      "cell_type": "code",
      "metadata": {
        "colab": {
          "base_uri": "https://localhost:8080/"
        },
        "id": "C8bsHC5trywr",
        "outputId": "350e8d1a-3c72-4237-eab2-44df45e845fa"
      },
      "source": [
        "#wrapper class PointData to work pytorch geometric\n",
        "#edit the class to work with our data \n",
        "\n",
        "class PointData(InMemoryDataset):\n",
        "    def __init__(self, data_list):\n",
        "        self.data_list = data_list\n",
        "        super(PointData, self).__init__(\"\", None, None)\n",
        "        self.data = self._data\n",
        "        self.slices = self._slices\n",
        "\n",
        "    @property\n",
        "    def raw_file_names(self):\n",
        "        return []\n",
        "\n",
        "    @property\n",
        "    def processed_file_names(self):\n",
        "        return []\n",
        "\n",
        "    @property\n",
        "    def num_classes(self):\n",
        "        return 4\n",
        "\n",
        "    def process(self):\n",
        "      # Read data into huge `Data` list.\n",
        "      data_list = self.data_list\n",
        "\n",
        "      if self.pre_filter is not None:\n",
        "          data_list = [data for data in data_list if self.pre_filter(data)]\n",
        "\n",
        "      data, slices = self.collate(data_list)\n",
        "      self._data = data\n",
        "      self._slices = slices\n",
        "\n",
        "data_list = []\n",
        "for item, label in zip(all_data, labels):\n",
        "  data_list.append(Data(pos=torch.tensor(item).float(), y=torch.tensor(label).long()))\n",
        "\n",
        "dataset = PointData(data_list)\n",
        "\n",
        "print(dataset[0].y)\n",
        "print(dataset[150].y)"
      ],
      "execution_count": 6,
      "outputs": [
        {
          "output_type": "stream",
          "text": [
            "Processing...\n",
            "Done!\n",
            "tensor([0])\n",
            "tensor([1])\n"
          ],
          "name": "stdout"
        }
      ]
    },
    {
      "cell_type": "code",
      "metadata": {
        "id": "ZM44yhwosH5Q"
      },
      "source": [
        "# defined pointnet layers which will be used in pytorch geometric \n",
        "class pointLayer(MessagePassing):\n",
        "    def __init__(self, in_channels, out_channels):\n",
        "        # super(pointLayer, self).__init__('add')\n",
        "        super(pointLayer, self).__init__('max') \n",
        "\n",
        "        self.input_layer = in_channels + 3\n",
        "        self.hidden_layer_one = int((in_channels + 3 + out_channels)/2)\n",
        "        self.hidden_layer_two = int((self.hidden_layer_one + out_channels)/2)\n",
        "        self.outputer_layer = out_channels\n",
        "\n",
        "        self.mlp = Sequential(Linear(self.input_layer, self.hidden_layer_one),\n",
        "                              ReLU(),\n",
        "                              Linear(self.hidden_layer_one, self.hidden_layer_two),\n",
        "                              Linear(self.hidden_layer_two, self.outputer_layer))\n",
        "        \n",
        "    def forward(self, x, position, edge_index):\n",
        "        # print(x)\n",
        "        return self.propagate(edge_index, h=x, pos=position)\n",
        "    \n",
        "    def message(self, h_j, p_j, p_i):  \n",
        "        if h_j is not None:\n",
        "          param = p_j - p_i\n",
        "          combined = torch.cat([h_j, param], dim=-1)\n",
        "        else:\n",
        "          return self.mlp(p_j - p_i)\n",
        "\n",
        "        return self.mlp(combined)  \n",
        "\n",
        "#pointnet model  \n",
        "class PointNetPlusPlus(torch.nn.Module):\n",
        "    def __init__(self):\n",
        "        super(PointNetPlusPlus, self).__init__()\n",
        "        self.pointnetlayer1 = pointLayer(3, 32)\n",
        "        self.pointnetlayer2 = pointLayer(32, 64)\n",
        "        self.pointnetlayer3 = pointLayer(64, 128)\n",
        "        self.fc = Linear(128, 4)\n",
        "        \n",
        "    def forward(self, position, batch):\n",
        "        knn_k_values = 16\n",
        "        edge_index = knn_graph(position, k=knn_k_values, batch=batch, loop=True)\n",
        "        x = self.pointnetlayer1(position, position, edge_index)\n",
        "        x = x.relu()\n",
        "        x = self.pointnetlayer2(x, position, edge_index)\n",
        "        x = x.relu()\n",
        "        x = self.pointnetlayer3(x, position, edge_index)\n",
        "        x = x.relu()\n",
        "        x = global_max_pool(x, batch)  \n",
        "        \n",
        "        return self.fc(x)"
      ],
      "execution_count": 80,
      "outputs": []
    },
    {
      "cell_type": "code",
      "metadata": {
        "id": "0l11aN8N4XjR"
      },
      "source": [
        "#randomly get 200 points\n",
        "indices = list(range(384))\n",
        "np.random.shuffle(indices)\n",
        "\n",
        "train_indices = indices[:200]\n",
        "test_indices = indices[200:]\n",
        "\n",
        "train_dataset = dataset[train_indices]\n",
        "test_dataset = dataset[test_indices]\n",
        "\n",
        "train_loader = DataLoader(train_dataset, batch_size=64, shuffle=True)\n",
        "test_loader = DataLoader(test_dataset, batch_size=64)"
      ],
      "execution_count": 12,
      "outputs": []
    },
    {
      "cell_type": "code",
      "metadata": {
        "id": "WssZUiQcsuqV"
      },
      "source": [
        "#initalize train and testing functions\n",
        "\n",
        "criterion = torch.nn.CrossEntropyLoss() \n",
        "\n",
        "def train(model, optimizer, loader):\n",
        "    model.train()\n",
        "    agr_loss = 0\n",
        "    for data in loader:\n",
        "        optimizer.zero_grad()  \n",
        "        res = model(data.pos, data.batch) \n",
        "        loss = criterion(res, data.y)  \n",
        "        loss.backward() \n",
        "        optimizer.step()  \n",
        "        agr_loss += loss.item() * data.num_graphs\n",
        "\n",
        "    return agr_loss / len(train_loader.dataset)\n",
        "\n",
        "@torch.no_grad()\n",
        "def test(model, loader):\n",
        "    model.eval()\n",
        "    correct = 0\n",
        "    for data in loader:\n",
        "        res = model(data.pos, data.batch)\n",
        "        guess = res.argmax(dim=-1)\n",
        "        correct += int((guess == data.y).sum())\n",
        "    return correct / 184"
      ],
      "execution_count": 48,
      "outputs": []
    },
    {
      "cell_type": "code",
      "metadata": {
        "colab": {
          "base_uri": "https://localhost:8080/"
        },
        "id": "i-bFezqKzsbo",
        "outputId": "78c5f4b9-57ac-4a82-8186-6c772595f6a3"
      },
      "source": [
        "#run model for 100 epochs\n",
        "\n",
        "model = PointNetPlusPlus()\n",
        "optimizer = torch.optim.Adam(model.parameters(), lr=0.001)\n",
        "criterion = torch.nn.CrossEntropyLoss() \n",
        "\n",
        "test_accuries = []\n",
        "\n",
        "for epoch in range(1, 100):\n",
        "    loss = train(model, optimizer, train_loader)\n",
        "    test_acc = test(model, test_loader)\n",
        "    test_accuries.append(test_acc)\n",
        "    print(f'Epoch: {epoch:02d}, Loss: {loss:.4f}, Test Accuracy: {test_acc:.4f}')"
      ],
      "execution_count": 74,
      "outputs": [
        {
          "output_type": "stream",
          "text": [
            "Epoch: 01, Loss: 1.3969, Test Accuracy: 0.2880\n",
            "Epoch: 02, Loss: 1.3661, Test Accuracy: 0.3967\n",
            "Epoch: 03, Loss: 1.3362, Test Accuracy: 0.4620\n",
            "Epoch: 04, Loss: 1.3033, Test Accuracy: 0.4293\n",
            "Epoch: 05, Loss: 1.2560, Test Accuracy: 0.4565\n",
            "Epoch: 06, Loss: 1.1966, Test Accuracy: 0.5870\n",
            "Epoch: 07, Loss: 1.1193, Test Accuracy: 0.6196\n",
            "Epoch: 08, Loss: 1.0443, Test Accuracy: 0.5272\n",
            "Epoch: 09, Loss: 0.9753, Test Accuracy: 0.5543\n",
            "Epoch: 10, Loss: 0.9404, Test Accuracy: 0.6250\n",
            "Epoch: 11, Loss: 0.8876, Test Accuracy: 0.5272\n",
            "Epoch: 12, Loss: 0.8662, Test Accuracy: 0.6250\n",
            "Epoch: 13, Loss: 0.8252, Test Accuracy: 0.6196\n",
            "Epoch: 14, Loss: 0.8020, Test Accuracy: 0.6250\n",
            "Epoch: 15, Loss: 0.7767, Test Accuracy: 0.6902\n",
            "Epoch: 16, Loss: 0.7624, Test Accuracy: 0.6467\n",
            "Epoch: 17, Loss: 0.7493, Test Accuracy: 0.6196\n",
            "Epoch: 18, Loss: 0.7336, Test Accuracy: 0.6250\n",
            "Epoch: 19, Loss: 0.7232, Test Accuracy: 0.7065\n",
            "Epoch: 20, Loss: 0.6883, Test Accuracy: 0.6630\n",
            "Epoch: 21, Loss: 0.6710, Test Accuracy: 0.6467\n",
            "Epoch: 22, Loss: 0.6490, Test Accuracy: 0.6522\n",
            "Epoch: 23, Loss: 0.6284, Test Accuracy: 0.6467\n",
            "Epoch: 24, Loss: 0.6164, Test Accuracy: 0.6739\n",
            "Epoch: 25, Loss: 0.5980, Test Accuracy: 0.8478\n",
            "Epoch: 26, Loss: 0.5786, Test Accuracy: 0.7609\n",
            "Epoch: 27, Loss: 0.5741, Test Accuracy: 0.7174\n",
            "Epoch: 28, Loss: 0.5513, Test Accuracy: 0.8750\n",
            "Epoch: 29, Loss: 0.5424, Test Accuracy: 0.9185\n",
            "Epoch: 30, Loss: 0.5308, Test Accuracy: 0.8315\n",
            "Epoch: 31, Loss: 0.4982, Test Accuracy: 0.8859\n",
            "Epoch: 32, Loss: 0.5073, Test Accuracy: 0.9076\n",
            "Epoch: 33, Loss: 0.4597, Test Accuracy: 0.9076\n",
            "Epoch: 34, Loss: 0.4465, Test Accuracy: 0.9022\n",
            "Epoch: 35, Loss: 0.4276, Test Accuracy: 0.8859\n",
            "Epoch: 36, Loss: 0.4090, Test Accuracy: 0.8913\n",
            "Epoch: 37, Loss: 0.4143, Test Accuracy: 0.8533\n",
            "Epoch: 38, Loss: 0.4118, Test Accuracy: 0.8587\n",
            "Epoch: 39, Loss: 0.3880, Test Accuracy: 0.9239\n",
            "Epoch: 40, Loss: 0.3723, Test Accuracy: 0.9293\n",
            "Epoch: 41, Loss: 0.3679, Test Accuracy: 0.8750\n",
            "Epoch: 42, Loss: 0.3473, Test Accuracy: 0.9348\n",
            "Epoch: 43, Loss: 0.3390, Test Accuracy: 0.9565\n",
            "Epoch: 44, Loss: 0.3190, Test Accuracy: 0.9402\n",
            "Epoch: 45, Loss: 0.3340, Test Accuracy: 0.9402\n",
            "Epoch: 46, Loss: 0.3160, Test Accuracy: 0.9511\n",
            "Epoch: 47, Loss: 0.2998, Test Accuracy: 0.9239\n",
            "Epoch: 48, Loss: 0.2947, Test Accuracy: 0.9620\n",
            "Epoch: 49, Loss: 0.2878, Test Accuracy: 0.9565\n",
            "Epoch: 50, Loss: 0.2793, Test Accuracy: 0.9076\n",
            "Epoch: 51, Loss: 0.2831, Test Accuracy: 0.9511\n",
            "Epoch: 52, Loss: 0.2741, Test Accuracy: 0.9565\n",
            "Epoch: 53, Loss: 0.2526, Test Accuracy: 0.9293\n",
            "Epoch: 54, Loss: 0.2582, Test Accuracy: 0.9674\n",
            "Epoch: 55, Loss: 0.2753, Test Accuracy: 0.9620\n",
            "Epoch: 56, Loss: 0.2677, Test Accuracy: 0.9185\n",
            "Epoch: 57, Loss: 0.2762, Test Accuracy: 0.9185\n",
            "Epoch: 58, Loss: 0.2660, Test Accuracy: 0.9457\n",
            "Epoch: 59, Loss: 0.2594, Test Accuracy: 0.9457\n",
            "Epoch: 60, Loss: 0.2375, Test Accuracy: 0.9348\n",
            "Epoch: 61, Loss: 0.2899, Test Accuracy: 0.9130\n",
            "Epoch: 62, Loss: 0.2316, Test Accuracy: 0.9402\n",
            "Epoch: 63, Loss: 0.2541, Test Accuracy: 0.9457\n",
            "Epoch: 64, Loss: 0.2213, Test Accuracy: 0.9239\n",
            "Epoch: 65, Loss: 0.2145, Test Accuracy: 0.9511\n",
            "Epoch: 66, Loss: 0.1935, Test Accuracy: 0.9511\n",
            "Epoch: 67, Loss: 0.1955, Test Accuracy: 0.9565\n",
            "Epoch: 68, Loss: 0.1832, Test Accuracy: 0.9402\n",
            "Epoch: 69, Loss: 0.1992, Test Accuracy: 0.9293\n",
            "Epoch: 70, Loss: 0.2080, Test Accuracy: 0.9457\n",
            "Epoch: 71, Loss: 0.1717, Test Accuracy: 0.9457\n",
            "Epoch: 72, Loss: 0.1820, Test Accuracy: 0.9239\n",
            "Epoch: 73, Loss: 0.1975, Test Accuracy: 0.9402\n",
            "Epoch: 74, Loss: 0.1948, Test Accuracy: 0.9457\n",
            "Epoch: 75, Loss: 0.1968, Test Accuracy: 0.9293\n",
            "Epoch: 76, Loss: 0.1906, Test Accuracy: 0.9239\n",
            "Epoch: 77, Loss: 0.1811, Test Accuracy: 0.9565\n",
            "Epoch: 78, Loss: 0.1689, Test Accuracy: 0.9402\n",
            "Epoch: 79, Loss: 0.1664, Test Accuracy: 0.9511\n",
            "Epoch: 80, Loss: 0.1573, Test Accuracy: 0.9565\n",
            "Epoch: 81, Loss: 0.1604, Test Accuracy: 0.9402\n",
            "Epoch: 82, Loss: 0.1479, Test Accuracy: 0.9130\n",
            "Epoch: 83, Loss: 0.1619, Test Accuracy: 0.9457\n",
            "Epoch: 84, Loss: 0.1370, Test Accuracy: 0.9565\n",
            "Epoch: 85, Loss: 0.2067, Test Accuracy: 0.9620\n",
            "Epoch: 86, Loss: 0.1478, Test Accuracy: 0.9348\n",
            "Epoch: 87, Loss: 0.1524, Test Accuracy: 0.9185\n",
            "Epoch: 88, Loss: 0.1455, Test Accuracy: 0.9511\n",
            "Epoch: 89, Loss: 0.1360, Test Accuracy: 0.9620\n",
            "Epoch: 90, Loss: 0.1312, Test Accuracy: 0.9511\n",
            "Epoch: 91, Loss: 0.1206, Test Accuracy: 0.9457\n",
            "Epoch: 92, Loss: 0.1202, Test Accuracy: 0.9511\n",
            "Epoch: 93, Loss: 0.1157, Test Accuracy: 0.9293\n",
            "Epoch: 94, Loss: 0.1307, Test Accuracy: 0.9348\n",
            "Epoch: 95, Loss: 0.1352, Test Accuracy: 0.9402\n",
            "Epoch: 96, Loss: 0.1102, Test Accuracy: 0.9348\n",
            "Epoch: 97, Loss: 0.1281, Test Accuracy: 0.9402\n",
            "Epoch: 98, Loss: 0.1216, Test Accuracy: 0.9348\n",
            "Epoch: 99, Loss: 0.1031, Test Accuracy: 0.9457\n"
          ],
          "name": "stdout"
        }
      ]
    },
    {
      "cell_type": "code",
      "metadata": {
        "colab": {
          "base_uri": "https://localhost:8080/",
          "height": 295
        },
        "id": "sEMpDjE_IfWR",
        "outputId": "0be0dd71-3fd3-4b37-f51e-6b6bf9825bd9"
      },
      "source": [
        "#plot 100 epochs \n",
        "\n",
        "plt.plot(test_accuries)\n",
        "plt.title(\"Testing Accuracy (over 100 epochs)\")\n",
        "plt.xlabel(\"Epochs\")\n",
        "plt.ylabel(\"Testing Accuracy\")\n",
        "plt.ylim((0, 1))\n",
        "plt.xticks(np.arange(0,110,10))\n",
        "plt.show()"
      ],
      "execution_count": 79,
      "outputs": [
        {
          "output_type": "display_data",
          "data": {
            "image/png": "[encoded data removed]",
            "text/plain": [
              "<Figure size 432x288 with 1 Axes>"
            ]
          },
          "metadata": {
            "tags": [],
            "needs_background": "light"
          }
        }
      ]
    },
    {
      "cell_type": "code",
      "metadata": {
        "colab": {
          "base_uri": "https://localhost:8080/"
        },
        "id": "C5vIgvuWdbuC",
        "outputId": "95401520-146c-44ff-f87d-46b418dd9c77"
      },
      "source": [
        "# print accuries over 100 epochs\n",
        "np.array(test_accuries)"
      ],
      "execution_count": 84,
      "outputs": [
        {
          "output_type": "execute_result",
          "data": {
            "text/plain": [
              "array([0.28804348, 0.39673913, 0.46195652, 0.42934783, 0.45652174,\n",
              "       0.58695652, 0.61956522, 0.52717391, 0.55434783, 0.625     ,\n",
              "       0.52717391, 0.625     , 0.61956522, 0.625     , 0.69021739,\n",
              "       0.64673913, 0.61956522, 0.625     , 0.70652174, 0.66304348,\n",
              "       0.64673913, 0.65217391, 0.64673913, 0.67391304, 0.84782609,\n",
              "       0.76086957, 0.7173913 , 0.875     , 0.91847826, 0.83152174,\n",
              "       0.88586957, 0.9076087 , 0.9076087 , 0.90217391, 0.88586957,\n",
              "       0.89130435, 0.85326087, 0.85869565, 0.92391304, 0.92934783,\n",
              "       0.875     , 0.93478261, 0.95652174, 0.94021739, 0.94021739,\n",
              "       0.95108696, 0.92391304, 0.96195652, 0.95652174, 0.9076087 ,\n",
              "       0.95108696, 0.95652174, 0.92934783, 0.9673913 , 0.96195652,\n",
              "       0.91847826, 0.91847826, 0.94565217, 0.94565217, 0.93478261,\n",
              "       0.91304348, 0.94021739, 0.94565217, 0.92391304, 0.95108696,\n",
              "       0.95108696, 0.95652174, 0.94021739, 0.92934783, 0.94565217,\n",
              "       0.94565217, 0.92391304, 0.94021739, 0.94565217, 0.92934783,\n",
              "       0.92391304, 0.95652174, 0.94021739, 0.95108696, 0.95652174,\n",
              "       0.94021739, 0.91304348, 0.94565217, 0.95652174, 0.96195652,\n",
              "       0.93478261, 0.91847826, 0.95108696, 0.96195652, 0.95108696,\n",
              "       0.94565217, 0.95108696, 0.92934783, 0.93478261, 0.94021739,\n",
              "       0.93478261, 0.94021739, 0.93478261, 0.94565217])"
            ]
          },
          "metadata": {
            "tags": []
          },
          "execution_count": 84
        }
      ]
    },
    {
      "cell_type": "code",
      "metadata": {
        "id": "cgByf_27QK4z"
      },
      "source": [
        "# get guesses \n",
        "guesses = [0] * 184\n",
        "outside = 0\n",
        "for data in test_loader:\n",
        "  allPred = model(data.pos, data.batch)\n",
        "  onePred = allPred.argmax(dim=-1)\n",
        "  gues = onePred.cpu().detach().tolist()\n",
        "  for g in gues:\n",
        "    guesses[outside] = g\n",
        "    outside += 1"
      ],
      "execution_count": 85,
      "outputs": []
    },
    {
      "cell_type": "code",
      "metadata": {
        "id": "gBnKPYZwX_w3"
      },
      "source": [
        "# get correct answers \n",
        "correct = [0] * 184\n",
        "outside = 0\n",
        "for data in test_loader:\n",
        "  cor = data.y.cpu().detach().tolist()\n",
        "  for c in cor:\n",
        "    correct[outside] = c\n",
        "    outside += 1"
      ],
      "execution_count": 86,
      "outputs": []
    },
    {
      "cell_type": "code",
      "metadata": {
        "colab": {
          "base_uri": "https://localhost:8080/",
          "height": 295
        },
        "id": "soNXDB33jhlS",
        "outputId": "6a97af79-8ad9-4568-8cbb-ba4f53c5d5e0"
      },
      "source": [
        "# generate confusion matrix\n",
        "def generateConfusionMatrix(correct, guess):\n",
        "  matrix = tf.math.confusion_matrix(correct, guess)\n",
        "  fig, ax = plt.subplots(figsize=(4,4))         # Sample figsize in inches\n",
        "  sns.heatmap(matrix, annot=True, cmap='Blues', xticklabels=CLASS_MAP.values(), yticklabels=CLASS_MAP.values())\n",
        "  ax.set_xlabel(\"Model Preictions\")\n",
        "  ax.set_ylabel(\"Correct Classes\")\n",
        "  ax.set_title(\"Confusion Matrix\")\n",
        "  plt.show()\n",
        "generateConfusionMatrix(correct, guesses)"
      ],
      "execution_count": 87,
      "outputs": [
        {
          "output_type": "display_data",
          "data": {
            "image/png": "[encoded data removed]",
            "text/plain": [
              "<Figure size 288x288 with 2 Axes>"
            ]
          },
          "metadata": {
            "tags": [],
            "needs_background": "light"
          }
        }
      ]
    },
    {
      "cell_type": "code",
      "metadata": {
        "colab": {
          "base_uri": "https://localhost:8080/"
        },
        "id": "atMT4f559NVr",
        "outputId": "988665c7-358a-4e1c-b18a-42cf0436db08"
      },
      "source": [
        "# testing different knn k values\n",
        "model = PointNetPlusPlus()\n",
        "optimizer = torch.optim.Adam(model.parameters(), lr=0.01)\n",
        "epochs_run_for = 15\n",
        "\n",
        "for epoch in range(1, epochs_run_for+1):\n",
        "    loss = train(model, optimizer, train_loader)\n",
        "    test_acc = test(model, test_loader)\n",
        "    print(f'Epoch: {epoch:02d}, Loss: {loss:.4f}, Test Accuracy: {test_acc:.4f}')"
      ],
      "execution_count": 30,
      "outputs": [
        {
          "output_type": "stream",
          "text": [
            "Epoch: 01, Loss: 1.2941, Test Accuracy: 0.6413\n",
            "Epoch: 02, Loss: 0.9985, Test Accuracy: 0.6359\n",
            "Epoch: 03, Loss: 0.8842, Test Accuracy: 0.6576\n",
            "Epoch: 04, Loss: 0.8244, Test Accuracy: 0.5217\n",
            "Epoch: 05, Loss: 0.7481, Test Accuracy: 0.6793\n",
            "Epoch: 06, Loss: 0.6845, Test Accuracy: 0.6413\n",
            "Epoch: 07, Loss: 0.6356, Test Accuracy: 0.6630\n",
            "Epoch: 08, Loss: 0.6106, Test Accuracy: 0.8315\n",
            "Epoch: 09, Loss: 0.5389, Test Accuracy: 0.7500\n",
            "Epoch: 10, Loss: 0.5018, Test Accuracy: 0.7935\n",
            "Epoch: 11, Loss: 0.4704, Test Accuracy: 0.7989\n",
            "Epoch: 12, Loss: 0.4515, Test Accuracy: 0.9076\n",
            "Epoch: 13, Loss: 0.4525, Test Accuracy: 0.8967\n",
            "Epoch: 14, Loss: 0.4115, Test Accuracy: 0.6685\n",
            "Epoch: 15, Loss: 0.4220, Test Accuracy: 0.9293\n"
          ],
          "name": "stdout"
        }
      ]
    },
    {
      "cell_type": "code",
      "metadata": {
        "colab": {
          "base_uri": "https://localhost:8080/",
          "height": 295
        },
        "id": "_tyFe8Pz9V4T",
        "outputId": "7bf24b8d-0b86-4ba4-ffed-b777366da179"
      },
      "source": [
        "#collected testing accuries for dirrect knn_k_values from above\n",
        "#ran for 10 epochs\n",
        "knn_k_values = [1,8,16,20]\n",
        "final_test_accuries = [0.7413, .8112, .9293, .8465]\n",
        "\n",
        "plt.scatter(knn_k_values, final_test_accuries)\n",
        "plt.title(\"Testing Accuracy vs KNN K Value\")\n",
        "plt.xlabel(\"KNN K Value\")\n",
        "plt.ylabel(\"Testing Accuracy\")\n",
        "plt.ylim((0, 1))\n",
        "plt.xticks(np.arange(0,26,4))\n",
        "plt.show()"
      ],
      "execution_count": 34,
      "outputs": [
        {
          "output_type": "display_data",
          "data": {
            "image/png": "[encoded data removed]",
            "text/plain": [
              "<Figure size 432x288 with 1 Axes>"
            ]
          },
          "metadata": {
            "tags": [],
            "needs_background": "light"
          }
        }
      ]
    },
    {
      "cell_type": "code",
      "metadata": {
        "colab": {
          "base_uri": "https://localhost:8080/"
        },
        "id": "X-bct00pFt6i",
        "outputId": "801f71e6-2ba9-41ef-d91e-80f1f136975a"
      },
      "source": [
        "# testing different learning rate values\n",
        "model = PointNetPlusPlus()\n",
        "optimizer = torch.optim.Adam(model.parameters(), lr=0.01)\n",
        "\n",
        "for epoch in range(1, 15):\n",
        "    loss = train(model, optimizer, train_loader)\n",
        "    test_acc = test(model, test_loader)\n",
        "    print(f'Epoch: {epoch:02d}, Loss: {loss:.4f}, Test Accuracy: {test_acc:.4f}')"
      ],
      "execution_count": 14,
      "outputs": [
        {
          "output_type": "stream",
          "text": [
            "Epoch: 01, Loss: 1.2922, Test Accuracy: 0.5924\n",
            "Epoch: 02, Loss: 1.0389, Test Accuracy: 0.6250\n",
            "Epoch: 03, Loss: 0.8474, Test Accuracy: 0.4946\n",
            "Epoch: 04, Loss: 0.8150, Test Accuracy: 0.6304\n",
            "Epoch: 05, Loss: 0.7693, Test Accuracy: 0.6739\n",
            "Epoch: 06, Loss: 0.6686, Test Accuracy: 0.5543\n",
            "Epoch: 07, Loss: 0.6249, Test Accuracy: 0.8207\n",
            "Epoch: 08, Loss: 0.5264, Test Accuracy: 0.8804\n",
            "Epoch: 09, Loss: 0.4562, Test Accuracy: 0.6196\n",
            "Epoch: 10, Loss: 0.5840, Test Accuracy: 0.7717\n",
            "Epoch: 11, Loss: 0.5121, Test Accuracy: 0.8804\n",
            "Epoch: 12, Loss: 0.4303, Test Accuracy: 0.9076\n",
            "Epoch: 13, Loss: 0.3672, Test Accuracy: 0.8533\n",
            "Epoch: 14, Loss: 0.3492, Test Accuracy: 0.9293\n"
          ],
          "name": "stdout"
        }
      ]
    },
    {
      "cell_type": "code",
      "metadata": {
        "colab": {
          "base_uri": "https://localhost:8080/",
          "height": 295
        },
        "id": "UVPH2FSXFxV3",
        "outputId": "4ac47055-8d26-48cf-d4b5-e031ce9ef7b0"
      },
      "source": [
        "#collected testing accuries for dirrect learning rate values from above\n",
        "#ran for 10 epochs\n",
        "lr_vals = [0.0001,0.001,0.005, 0.01]\n",
        "final_test_accuries = [.6916, .7832, .8341, .9293]\n",
        "\n",
        "plt.scatter(x=lr_vals, y=final_test_accuries)\n",
        "plt.title(\"Testing Accuracy vs Learning Rate Values\")\n",
        "plt.xlabel(\"Learning Rate Values\")\n",
        "plt.ylabel(\"Testing Accuracy\")\n",
        "plt.ylim((0, 1))\n",
        "plt.xticks(np.arange(0,0.01 + .002, .002))\n",
        "plt.show()"
      ],
      "execution_count": 26,
      "outputs": [
        {
          "output_type": "display_data",
          "data": {
            "image/png": "[encoded data removed]",
            "text/plain": [
              "<Figure size 432x288 with 1 Axes>"
            ]
          },
          "metadata": {
            "tags": [],
            "needs_background": "light"
          }
        }
      ]
    },
    {
      "cell_type": "code",
      "metadata": {
        "colab": {
          "base_uri": "https://localhost:8080/"
        },
        "id": "CxGInBFvI5vq",
        "outputId": "e8873f41-bf34-493f-9327-b6af450f8063"
      },
      "source": [
        "#Test different optimizers \n",
        "# optimizer = torch.optim.Adam(model.parameters(), lr=0.001)\n",
        "# optimizer = torch.optim.RMSprop(model.parameters(), lr=0.001)\n",
        "# optimizer = torch.optim.SGD(model.parameters(), lr=0.001)\n",
        "\n",
        "model = PointNetPlusPlus()\n",
        "optimizer = torch.optim.RMSprop(model.parameters(), lr=0.001)\n",
        "\n",
        "for epoch in range(1, 15):\n",
        "    loss = train(model, optimizer, train_loader)\n",
        "    test_acc = test(model, test_loader)\n",
        "    print(f'Epoch: {epoch:02d}, Loss: {loss:.4f}, Test Accuracy: {test_acc:.4f}')"
      ],
      "execution_count": 42,
      "outputs": [
        {
          "output_type": "stream",
          "text": [
            "Epoch: 01, Loss: 1.3239, Test Accuracy: 0.3478\n",
            "Epoch: 02, Loss: 1.1327, Test Accuracy: 0.4457\n",
            "Epoch: 03, Loss: 1.0653, Test Accuracy: 0.5054\n",
            "Epoch: 04, Loss: 0.9506, Test Accuracy: 0.5054\n",
            "Epoch: 05, Loss: 0.9262, Test Accuracy: 0.6250\n",
            "Epoch: 06, Loss: 0.8532, Test Accuracy: 0.5870\n",
            "Epoch: 07, Loss: 0.8234, Test Accuracy: 0.6902\n",
            "Epoch: 08, Loss: 0.8044, Test Accuracy: 0.6793\n",
            "Epoch: 09, Loss: 0.7673, Test Accuracy: 0.7065\n",
            "Epoch: 10, Loss: 0.7384, Test Accuracy: 0.6413\n",
            "Epoch: 11, Loss: 0.7431, Test Accuracy: 0.5761\n",
            "Epoch: 12, Loss: 0.7312, Test Accuracy: 0.7337\n",
            "Epoch: 13, Loss: 0.6870, Test Accuracy: 0.7391\n",
            "Epoch: 14, Loss: 0.6842, Test Accuracy: 0.7391\n"
          ],
          "name": "stdout"
        }
      ]
    },
    {
      "cell_type": "code",
      "metadata": {
        "id": "NWATKDGxiQtO"
      },
      "source": [
        "optimizerLabel = [\"Adam\", \"RMSprop\", \"SGD\"]\n",
        "optimizer_accuracy = [.9213, 0.7391, .5912]"
      ],
      "execution_count": 43,
      "outputs": []
    },
    {
      "cell_type": "code",
      "metadata": {
        "colab": {
          "base_uri": "https://localhost:8080/",
          "height": 310
        },
        "id": "D3lGjU1y6r85",
        "outputId": "3e37304d-f56c-46dd-ee16-0353397b57c6"
      },
      "source": [
        "plt.scatter(x=[0,1,2], y=optimizer_accuracy)\n",
        "plt.title(\"Testing Accuracy vs Optimizer\")\n",
        "plt.xlabel(\"Optimizer\")\n",
        "plt.ylabel(\"Testing Accuracy\")\n",
        "plt.xticks([0, 1, 2], ['Adam', 'RMSprop', 'SGD'], rotation=20)\n",
        "plt.ylim((0, 1))\n",
        "plt.show()"
      ],
      "execution_count": 82,
      "outputs": [
        {
          "output_type": "display_data",
          "data": {
            "image/png": "[encoded data removed]",
            "text/plain": [
              "<Figure size 432x288 with 1 Axes>"
            ]
          },
          "metadata": {
            "tags": [],
            "needs_background": "light"
          }
        }
      ]
    },
    {
      "cell_type": "code",
      "metadata": {
        "colab": {
          "base_uri": "https://localhost:8080/"
        },
        "id": "FL-buG1fwYza",
        "outputId": "7e7cbaa5-779c-4f44-d4d1-6085f5df7e35"
      },
      "source": [
        "#Test new architecture out for the model\n",
        "model = PointNetPlusPlus()\n",
        "optimizer = torch.optim.Adam(model.parameters(), lr=0.001)\n",
        "\n",
        "for epoch in range(1, 30):\n",
        "    loss = train(model, optimizer, train_loader)\n",
        "    test_acc = test(model, test_loader)\n",
        "    print(f'Epoch: {epoch:02d}, Loss: {loss:.4f}, Test Accuracy: {test_acc:.4f}')"
      ],
      "execution_count": 50,
      "outputs": [
        {
          "output_type": "stream",
          "text": [
            "Epoch: 01, Loss: 1.3750, Test Accuracy: 0.4891\n",
            "Epoch: 02, Loss: 1.3496, Test Accuracy: 0.3750\n",
            "Epoch: 03, Loss: 1.3227, Test Accuracy: 0.4511\n",
            "Epoch: 04, Loss: 1.2859, Test Accuracy: 0.6196\n",
            "Epoch: 05, Loss: 1.2366, Test Accuracy: 0.6196\n",
            "Epoch: 06, Loss: 1.1749, Test Accuracy: 0.5380\n",
            "Epoch: 07, Loss: 1.1060, Test Accuracy: 0.6250\n",
            "Epoch: 08, Loss: 1.0435, Test Accuracy: 0.6250\n",
            "Epoch: 09, Loss: 0.9813, Test Accuracy: 0.6141\n",
            "Epoch: 10, Loss: 0.9301, Test Accuracy: 0.6250\n",
            "Epoch: 11, Loss: 0.8825, Test Accuracy: 0.6304\n",
            "Epoch: 12, Loss: 0.8420, Test Accuracy: 0.6304\n",
            "Epoch: 13, Loss: 0.8184, Test Accuracy: 0.5707\n",
            "Epoch: 14, Loss: 0.7976, Test Accuracy: 0.6359\n",
            "Epoch: 15, Loss: 0.7652, Test Accuracy: 0.6304\n",
            "Epoch: 16, Loss: 0.7354, Test Accuracy: 0.6359\n",
            "Epoch: 17, Loss: 0.7242, Test Accuracy: 0.6848\n",
            "Epoch: 18, Loss: 0.6981, Test Accuracy: 0.7065\n",
            "Epoch: 19, Loss: 0.6694, Test Accuracy: 0.8587\n",
            "Epoch: 20, Loss: 0.6719, Test Accuracy: 0.8478\n",
            "Epoch: 21, Loss: 0.6418, Test Accuracy: 0.7120\n",
            "Epoch: 22, Loss: 0.6206, Test Accuracy: 0.8641\n",
            "Epoch: 23, Loss: 0.5975, Test Accuracy: 0.8533\n",
            "Epoch: 24, Loss: 0.5903, Test Accuracy: 0.8967\n",
            "Epoch: 25, Loss: 0.5523, Test Accuracy: 0.8261\n",
            "Epoch: 26, Loss: 0.5637, Test Accuracy: 0.8913\n",
            "Epoch: 27, Loss: 0.5440, Test Accuracy: 0.9239\n",
            "Epoch: 28, Loss: 0.5314, Test Accuracy: 0.9022\n",
            "Epoch: 29, Loss: 0.5016, Test Accuracy: 0.8370\n"
          ],
          "name": "stdout"
        }
      ]
    },
    {
      "cell_type": "code",
      "metadata": {
        "colab": {
          "base_uri": "https://localhost:8080/",
          "height": 314
        },
        "id": "c5Eqwavy-NRX",
        "outputId": "3a1c7f94-1fcf-4f8f-d586-74494ade783d"
      },
      "source": [
        "arch_accuracy = [0.9293,0.8370,0.9154]\n",
        "plt.scatter(x=[0,1,2], y=arch_accuracy)\n",
        "plt.title(\"Testing Accuracy vs MLP Architecture\")\n",
        "plt.xlabel(\"MLP Architecture Type\")\n",
        "plt.ylabel(\"Testing Accuracy\")\n",
        "plt.xticks([0, 1, 2], [\"MLP Arch 1\", \"MLP Arch 2\", \"MLP Arch 3\"], rotation=20)\n",
        "plt.ylim((0, 1))\n",
        "plt.show()"
      ],
      "execution_count": 73,
      "outputs": [
        {
          "output_type": "display_data",
          "data": {
            "image/png": "[encoded data removed]",
            "text/plain": [
              "<Figure size 432x288 with 1 Axes>"
            ]
          },
          "metadata": {
            "tags": [],
            "needs_background": "light"
          }
        }
      ]
    },
    {
      "cell_type": "code",
      "metadata": {
        "colab": {
          "base_uri": "https://localhost:8080/",
          "height": 483
        },
        "id": "8uIWD-eicO6Z",
        "outputId": "fbc25337-ae21-485f-da06-03e0c20a4c81"
      },
      "source": [
        "#table with all the data\n",
        "experiment_name = [\"KNN K Value\", \"KNN K Value\", \"KNN K Value\", \"KNN K Value\", \n",
        "                   \"Learning Rate\", \"Learning Rate\", \"Learning Rate\", \"Learning Rate\",\n",
        "                   \"Optimizer\", \"Optimizer\", \"Optimizer\", \"MLP Architecture\", \"MLP Architecture\", \"MLP Architecture\"]\n",
        "valTested = [1,4,8,16,0.0001,0.001,0.005,0.01, \"ADAM\", \"RMSprop\", \"SGD\", \"MLP Arch 1\", \"MLP Arch 2\", \"MLP Arch 3\"]\n",
        "result_accuracy = [0.7413, .8112, .9293, .8465,.6916, .7832, .8341, .9293,.9213, 0.7391, .5912,0.9293,0.8370,0.9154]\n",
        "\n",
        "d = {'Experiment': experiment_name, 'Value Tested': valTested, 'Accuracy': result_accuracy}\n",
        "df = pd.DataFrame(data=d)\n",
        "df"
      ],
      "execution_count": 63,
      "outputs": [
        {
          "output_type": "execute_result",
          "data": {
            "text/html": [
              "<div>\n",
              "<style scoped>\n",
              "    .dataframe tbody tr th:only-of-type {\n",
              "        vertical-align: middle;\n",
              "    }\n",
              "\n",
              "    .dataframe tbody tr th {\n",
              "        vertical-align: top;\n",
              "    }\n",
              "\n",
              "    .dataframe thead th {\n",
              "        text-align: right;\n",
              "    }\n",
              "</style>\n",
              "<table border=\"1\" class=\"dataframe\">\n",
              "  <thead>\n",
              "    <tr style=\"text-align: right;\">\n",
              "      <th></th>\n",
              "      <th>Experiment</th>\n",
              "      <th>Value Tested</th>\n",
              "      <th>Accuracy</th>\n",
              "    </tr>\n",
              "  </thead>\n",
              "  <tbody>\n",
              "    <tr>\n",
              "      <th>0</th>\n",
              "      <td>KNN K Value</td>\n",
              "      <td>1</td>\n",
              "      <td>0.7413</td>\n",
              "    </tr>\n",
              "    <tr>\n",
              "      <th>1</th>\n",
              "      <td>KNN K Value</td>\n",
              "      <td>4</td>\n",
              "      <td>0.8112</td>\n",
              "    </tr>\n",
              "    <tr>\n",
              "      <th>2</th>\n",
              "      <td>KNN K Value</td>\n",
              "      <td>8</td>\n",
              "      <td>0.9293</td>\n",
              "    </tr>\n",
              "    <tr>\n",
              "      <th>3</th>\n",
              "      <td>KNN K Value</td>\n",
              "      <td>16</td>\n",
              "      <td>0.8465</td>\n",
              "    </tr>\n",
              "    <tr>\n",
              "      <th>4</th>\n",
              "      <td>Learning Rate</td>\n",
              "      <td>0.0001</td>\n",
              "      <td>0.6916</td>\n",
              "    </tr>\n",
              "    <tr>\n",
              "      <th>5</th>\n",
              "      <td>Learning Rate</td>\n",
              "      <td>0.001</td>\n",
              "      <td>0.7832</td>\n",
              "    </tr>\n",
              "    <tr>\n",
              "      <th>6</th>\n",
              "      <td>Learning Rate</td>\n",
              "      <td>0.005</td>\n",
              "      <td>0.8341</td>\n",
              "    </tr>\n",
              "    <tr>\n",
              "      <th>7</th>\n",
              "      <td>Learning Rate</td>\n",
              "      <td>0.01</td>\n",
              "      <td>0.9293</td>\n",
              "    </tr>\n",
              "    <tr>\n",
              "      <th>8</th>\n",
              "      <td>Optimizer</td>\n",
              "      <td>ADAM</td>\n",
              "      <td>0.9213</td>\n",
              "    </tr>\n",
              "    <tr>\n",
              "      <th>9</th>\n",
              "      <td>Optimizer</td>\n",
              "      <td>RMSprop</td>\n",
              "      <td>0.7391</td>\n",
              "    </tr>\n",
              "    <tr>\n",
              "      <th>10</th>\n",
              "      <td>Optimizer</td>\n",
              "      <td>SGD</td>\n",
              "      <td>0.5912</td>\n",
              "    </tr>\n",
              "    <tr>\n",
              "      <th>11</th>\n",
              "      <td>MLP Architecture</td>\n",
              "      <td>MLP Arch 1</td>\n",
              "      <td>0.9293</td>\n",
              "    </tr>\n",
              "    <tr>\n",
              "      <th>12</th>\n",
              "      <td>MLP Architecture</td>\n",
              "      <td>MLP Arch 2</td>\n",
              "      <td>0.8370</td>\n",
              "    </tr>\n",
              "    <tr>\n",
              "      <th>13</th>\n",
              "      <td>MLP Architecture</td>\n",
              "      <td>MLP Arch 3</td>\n",
              "      <td>0.9154</td>\n",
              "    </tr>\n",
              "  </tbody>\n",
              "</table>\n",
              "</div>"
            ],
            "text/plain": [
              "          Experiment Value Tested  Accuracy\n",
              "0        KNN K Value            1    0.7413\n",
              "1        KNN K Value            4    0.8112\n",
              "2        KNN K Value            8    0.9293\n",
              "3        KNN K Value           16    0.8465\n",
              "4      Learning Rate       0.0001    0.6916\n",
              "5      Learning Rate        0.001    0.7832\n",
              "6      Learning Rate        0.005    0.8341\n",
              "7      Learning Rate         0.01    0.9293\n",
              "8          Optimizer         ADAM    0.9213\n",
              "9          Optimizer      RMSprop    0.7391\n",
              "10         Optimizer          SGD    0.5912\n",
              "11  MLP Architecture   MLP Arch 1    0.9293\n",
              "12  MLP Architecture   MLP Arch 2    0.8370\n",
              "13  MLP Architecture   MLP Arch 3    0.9154"
            ]
          },
          "metadata": {
            "tags": []
          },
          "execution_count": 63
        }
      ]
    }
  ]
}